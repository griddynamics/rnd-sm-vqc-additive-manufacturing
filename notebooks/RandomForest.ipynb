{
  "cells": [
    {
      "attachments": {},
      "cell_type": "markdown",
      "metadata": {
        "id": "86xmHtfhLiJh"
      },
      "source": [
        "<!-- ## Mounting drive and copying the dataset\n",
        "\n",
        "Below datasets are datasets used for random forest propensity and\n",
        "random forest classification model training\n",
        "\n",
        "Datasets contain anomalous and normal meshes with calculated per \n",
        "point distance from relevant reference mesh point.\n",
        "\n",
        "Also contained within are train and test dataframes for mesh model. -->"
      ]
    },
    {
      "cell_type": "code",
      "execution_count": null,
      "metadata": {
        "colab": {
          "base_uri": "https://localhost:8080/"
        },
        "id": "CYLJmduXbdxz",
        "outputId": "0c5a02a8-a753-4b4f-d358-91eff574e613"
      },
      "outputs": [
        {
          "name": "stdout",
          "output_type": "stream",
          "text": [
            "Mounted at /content/drive\n"
          ]
        }
      ],
      "source": [
        "# from google.colab import drive\n",
        "\n",
        "# # Mount google drive with datasets and models\n",
        "# drive.mount('/content/drive')\n",
        "# # Copy models from drive to notebook directory \"/content/\"\n",
        "# !cp \"/content/drive/MyDrive/ma-vqc_datasets/Quartered anomaly size.zip\" \"/content\" # Full mesh dataset\n",
        "# !cp \"/content/drive/MyDrive/ma-vqc_datasets/RF Quartered anomaly size.zip\" \"/content\" # Point dataset\n",
        "\n",
        "# # Run to extract dataset files\n",
        "\n",
        "# # zip_name will be used for loading and saving datasets. Make sure the name is correct\n",
        "# zip_name = \"Quartered anomaly size\"\n",
        "# with zipfile.ZipFile(f\"/content/{zip_name}.zip\", 'r') as zip_ref: \n",
        "#     zip_ref.extractall(\"/content/\")\n",
        "\n",
        "# with zipfile.ZipFile(f\"/content/RF {zip_name}.zip\", 'r') as zip_ref: \n",
        "#     zip_ref.extractall(\"/content/\")\n"
      ]
    },
    {
      "attachments": {},
      "cell_type": "markdown",
      "metadata": {
        "id": "TgXocVJxA5Wf"
      },
      "source": [
        "## Requirements"
      ]
    },
    {
      "cell_type": "code",
      "execution_count": 33,
      "metadata": {
        "id": "tQ-IhssY2OLT"
      },
      "outputs": [],
      "source": [
        "import os\n",
        "import random\n",
        "\n",
        "import pandas as pd\n",
        "import zipfile\n",
        "import glob\n",
        "from joblib import dump, load\n",
        "import open3d as o3d\n",
        "\n",
        "import pandas as pd\n",
        "from sklearn.ensemble import RandomForestClassifier\n",
        "from sklearn.metrics import accuracy_score, confusion_matrix, precision_score, recall_score, ConfusionMatrixDisplay\n",
        "from sklearn.model_selection import train_test_split\n",
        "import numpy as np\n",
        "\n",
        "from notebook_utils.propensity_utils import get_reference_pairs, generate_distance_csvs\n",
        "\n",
        "\n",
        "random.seed = 42"
      ]
    },
    {
      "attachments": {},
      "cell_type": "markdown",
      "metadata": {
        "id": "yK29Octx2e64"
      },
      "source": [
        "## Point model data preparation"
      ]
    },
    {
      "attachments": {},
      "cell_type": "markdown",
      "metadata": {},
      "source": [
        "### Generate 2 datasets using script.\n",
        "Make sure the datasets have different paths when generating and that the parameters for anomalies are the same\n",
        "\n",
        "One dataset is for training the Random Forest propensity model\n",
        "The second one used for per mesh classification"
      ]
    },
    {
      "attachments": {},
      "cell_type": "markdown",
      "metadata": {},
      "source": [
        "This function is used to generate a dataframe used for training per propensity model.\n",
        "<ul>\n",
        "<li><b>id</b> - unique mesh identifier</li>\n",
        "<li><b>dist</b> - distance value of item point to relevant reference mesh point</li>\n",
        "<li><b>label</b> - per point label for whether the point is on an anomaly</li>\n",
        "<li><b>label_obj</b> - whether the mesh contains an anomaly</li>\n",
        "</ul>"
      ]
    },
    {
      "cell_type": "code",
      "execution_count": 34,
      "metadata": {},
      "outputs": [],
      "source": [
        "# Load csv files with per point values of ['x', 'y', 'z', 'dist', 'label']\n",
        "def get_samples(paths, labels):\n",
        "  # Create point dataframe\n",
        "  columns_list = ['id', 'x', 'y', 'z', 'dist', 'label', 'label_obj']\n",
        "  point_df = pd.DataFrame(columns=columns_list)\n",
        "  for idx, (name, label) in enumerate(zip(paths, labels)):\n",
        "      if name.endswith(\".csv\"):\n",
        "\n",
        "        # Loading point dataframe of single point cloud \n",
        "        df_tmp = pd.read_csv(name)\n",
        "        df_tmp['id'] = idx\n",
        "        df_tmp['label_obj'] = 0 if label==\"normal\" else 1\n",
        "        \n",
        "        # Concatenate to single dataframe\n",
        "        point_df = pd.concat([point_df, df_tmp], ignore_index=True)                \n",
        "  return point_df\n",
        "\n",
        "def data_split(paths_anom, paths_norm, test_split, point=True):\n",
        "   \n",
        "  # Calculate data split\n",
        "  split_ids = int(len(paths_anom) * test_split)\n",
        "  print(f\"Anoms: {len(paths_anom)}\")\n",
        "  print(f\"Norms: {len(paths_norm)}\")\n",
        "\n",
        "  # Split train and test paths per class\n",
        "  train_paths_anom = paths_anom[split_ids:]\n",
        "  train_paths_norm = paths_norm[split_ids:]\n",
        "  test_paths_anom = paths_anom[:split_ids]\n",
        "  test_paths_norm = paths_norm[:split_ids]\n",
        "\n",
        "  train_labels = [1 for _ in range(len(train_paths_anom))] + [0 for _ in range(len(train_paths_norm))]\n",
        "  test_labels = [1 for _ in range(len(test_paths_anom))] + [0 for _ in range(len(test_paths_norm))]\n",
        "  train_point_df = get_samples(train_paths_anom + train_paths_norm, train_labels)\n",
        "  train_point_df.to_csv(\"./data/train_point_df.csv\", index=False)\n",
        "\n",
        "  # Test dataset\n",
        "  test_point_df = get_samples(test_paths_anom + test_paths_norm, test_labels)\n",
        "  test_point_df.to_csv(\"./data/test_point_df.csv\", index=False)\n",
        "\n",
        "  # 90/10 class split\n",
        "  anom_split_90_10 = int(len(test_paths_anom)/9)\n",
        "  test_paths_anom_90_10 = test_paths_anom[:anom_split_90_10]\n",
        "  test_labels_90_10 = [1 for _ in range(len(test_paths_anom_90_10))] + [0 for _ in range(len(test_paths_norm))]\n",
        "  # 90-10 split dataset\n",
        "  test_point_df_90_10 = get_samples(test_paths_anom_90_10 + test_paths_norm, test_labels_90_10)\n",
        "  test_point_df_90_10.to_csv(\"./data/test_point_df_90_10.csv\", index=False)\n",
        "\n",
        "  return train_point_df, test_point_df, test_point_df_90_10\n"
      ]
    },
    {
      "cell_type": "code",
      "execution_count": 35,
      "metadata": {},
      "outputs": [],
      "source": [
        "paths_of_point_clouds = \"C:/Users/Sani/Desktop/WorkTest/point_cloud_mesh/\" # Insert path to point cloud folder of propensity dataset\n",
        "test_split = 0.2 # test split for propensity data"
      ]
    },
    {
      "cell_type": "code",
      "execution_count": 39,
      "metadata": {},
      "outputs": [
        {
          "name": "stdout",
          "output_type": "stream",
          "text": [
            "Anoms: 20\n",
            "Norms: 20\n"
          ]
        }
      ],
      "source": [
        "\n",
        "# Get matching reference to anomaly/normal mesh\n",
        "pairs_of_paths = get_reference_pairs(\n",
        "    {\"anomaly\": [], 'normal': []},\n",
        "    paths_of_point_clouds\n",
        ")\n",
        "# Generate distance csvs to be used for propensity model training\n",
        "df_point = generate_distance_csvs(\n",
        "    pairs_of_paths,\n",
        "    os.path.join(paths_of_point_clouds, \"generate_distance_csvs\")\n",
        ")\n",
        "train_point_df, test_point_df, test_point_df_90_10 = data_split(df_point[\"anomaly\"], df_point[\"normal\"], test_split)"
      ]
    },
    {
      "attachments": {},
      "cell_type": "markdown",
      "metadata": {
        "id": "pjr0uEv4Qx6a"
      },
      "source": [
        "### Point anomaly dataset\n",
        "\n",
        "Point anomaly dataset contains csv files with columns [\"x\", \"y\", \"z\", \"dist\"]\n",
        "where dist is the per point distance to the relevant mesh point\n",
        "\n",
        "This dataset is used for training propensity random forest model"
      ]
    },
    {
      "attachments": {},
      "cell_type": "markdown",
      "metadata": {
        "id": "y8KMHcj13nxR"
      },
      "source": [
        "## Point model training\n",
        "\n",
        "To train propensity random forest model should be loaded in the following cell.\n",
        "Set contains [\"x\", \"y\", \"z\", \"dist\", \"id\", \"label_obj\", \"label\"] values per point for all meshes.\n",
        "\n",
        "**id** - unique mesh id\n",
        "\n",
        "**label** - 1 if point is on anomaly else 0\n",
        "\n",
        "**label_obj** - 1 if mesh has anomaly else 0 for all points in mesh"
      ]
    },
    {
      "cell_type": "code",
      "execution_count": 21,
      "metadata": {
        "colab": {
          "base_uri": "https://localhost:8080/"
        },
        "id": "R5BNVDRvmpP8",
        "outputId": "b35bde49-ef5b-4f6f-83ee-ccd313301cc2"
      },
      "outputs": [
        {
          "name": "stdout",
          "output_type": "stream",
          "text": [
            "(1287744, 7)\n",
            "(321936, 7)\n",
            "(160968, 7)\n"
          ]
        }
      ],
      "source": [
        "# Load dataframes for point net training\n",
        "train_point_df = pd.read_csv(\"./data/train_point_df.csv\")\n",
        "test_point_df = pd.read_csv(\"./data/test_point_df.csv\")\n",
        "test_point_df_90_10 = pd.read_csv(\"./data/test_point_df_90_10.csv\")\n",
        "print(train_point_df.shape)\n",
        "print(test_point_df.shape)\n",
        "print(test_point_df_90_10.shape)"
      ]
    },
    {
      "cell_type": "code",
      "execution_count": 22,
      "metadata": {
        "id": "QcHsg-4AWnUU"
      },
      "outputs": [],
      "source": [
        "# Fraction of ids to be used for training\n",
        "frac_of_ids = 0.2"
      ]
    },
    {
      "cell_type": "code",
      "execution_count": 23,
      "metadata": {
        "colab": {
          "base_uri": "https://localhost:8080/",
          "height": 621
        },
        "id": "_-Oiio7xUk1A",
        "outputId": "7c83668f-d803-4d21-c2b0-53dd0940a498"
      },
      "outputs": [
        {
          "name": "stderr",
          "output_type": "stream",
          "text": [
            "[Parallel(n_jobs=2)]: Using backend ThreadingBackend with 2 concurrent workers.\n",
            "[Parallel(n_jobs=2)]: Done  46 tasks      | elapsed:   11.0s\n",
            "[Parallel(n_jobs=2)]: Done 100 out of 100 | elapsed:   22.9s finished\n",
            "[Parallel(n_jobs=2)]: Using backend ThreadingBackend with 2 concurrent workers.\n",
            "[Parallel(n_jobs=2)]: Done  46 tasks      | elapsed:    0.4s\n",
            "[Parallel(n_jobs=2)]: Done 100 out of 100 | elapsed:    1.0s finished\n"
          ]
        },
        {
          "name": "stdout",
          "output_type": "stream",
          "text": [
            "matplotlib data path: c:\\Users\\Sani\\anaconda3\\envs\\ma-vqc-data-preprocessing\\lib\\site-packages\\matplotlib\\mpl-data\n",
            "CONFIGDIR=C:\\Users\\Sani\\.matplotlib\n",
            "interactive is False\n",
            "platform is win32\n",
            "CACHEDIR=C:\\Users\\Sani\\.matplotlib\n",
            "Using fontManager instance from C:\\Users\\Sani\\.matplotlib\\fontlist-v330.json\n",
            "Loaded backend module://matplotlib_inline.backend_inline version unknown.\n",
            "Loaded backend module://matplotlib_inline.backend_inline version unknown.\n",
            "findfont: Matching sans\\-serif:style=normal:variant=normal:weight=normal:stretch=normal:size=10.0.\n",
            "findfont: score(FontEntry(fname='c:\\\\Users\\\\Sani\\\\anaconda3\\\\envs\\\\ma-vqc-data-preprocessing\\\\lib\\\\site-packages\\\\matplotlib\\\\mpl-data\\\\fonts\\\\ttf\\\\cmr10.ttf', name='cmr10', style='normal', variant='normal', weight=400, stretch='normal', size='scalable')) = 10.05\n",
            "findfont: score(FontEntry(fname='c:\\\\Users\\\\Sani\\\\anaconda3\\\\envs\\\\ma-vqc-data-preprocessing\\\\lib\\\\site-packages\\\\matplotlib\\\\mpl-data\\\\fonts\\\\ttf\\\\STIXSizFourSymReg.ttf', name='STIXSizeFourSym', style='normal', variant='normal', weight=400, stretch='normal', size='scalable')) = 10.05\n",
            "findfont: score(FontEntry(fname='c:\\\\Users\\\\Sani\\\\anaconda3\\\\envs\\\\ma-vqc-data-preprocessing\\\\lib\\\\site-packages\\\\matplotlib\\\\mpl-data\\\\fonts\\\\ttf\\\\cmex10.ttf', name='cmex10', style='normal', variant='normal', weight=400, stretch='normal', size='scalable')) = 10.05\n",
            "findfont: score(FontEntry(fname='c:\\\\Users\\\\Sani\\\\anaconda3\\\\envs\\\\ma-vqc-data-preprocessing\\\\lib\\\\site-packages\\\\matplotlib\\\\mpl-data\\\\fonts\\\\ttf\\\\DejaVuSansMono-Oblique.ttf', name='DejaVu Sans Mono', style='oblique', variant='normal', weight=400, stretch='normal', size='scalable')) = 11.05\n",
            "findfont: score(FontEntry(fname='c:\\\\Users\\\\Sani\\\\anaconda3\\\\envs\\\\ma-vqc-data-preprocessing\\\\lib\\\\site-packages\\\\matplotlib\\\\mpl-data\\\\fonts\\\\ttf\\\\DejaVuSans-Oblique.ttf', name='DejaVu Sans', style='oblique', variant='normal', weight=400, stretch='normal', size='scalable')) = 1.05\n",
            "findfont: score(FontEntry(fname='c:\\\\Users\\\\Sani\\\\anaconda3\\\\envs\\\\ma-vqc-data-preprocessing\\\\lib\\\\site-packages\\\\matplotlib\\\\mpl-data\\\\fonts\\\\ttf\\\\DejaVuSansMono-BoldOblique.ttf', name='DejaVu Sans Mono', style='oblique', variant='normal', weight=700, stretch='normal', size='scalable')) = 11.335\n",
            "findfont: score(FontEntry(fname='c:\\\\Users\\\\Sani\\\\anaconda3\\\\envs\\\\ma-vqc-data-preprocessing\\\\lib\\\\site-packages\\\\matplotlib\\\\mpl-data\\\\fonts\\\\ttf\\\\DejaVuSerif-Bold.ttf', name='DejaVu Serif', style='normal', variant='normal', weight=700, stretch='normal', size='scalable')) = 10.335\n",
            "findfont: score(FontEntry(fname='c:\\\\Users\\\\Sani\\\\anaconda3\\\\envs\\\\ma-vqc-data-preprocessing\\\\lib\\\\site-packages\\\\matplotlib\\\\mpl-data\\\\fonts\\\\ttf\\\\STIXNonUniBolIta.ttf', name='STIXNonUnicode', style='italic', variant='normal', weight=700, stretch='normal', size='scalable')) = 11.335\n",
            "findfont: score(FontEntry(fname='c:\\\\Users\\\\Sani\\\\anaconda3\\\\envs\\\\ma-vqc-data-preprocessing\\\\lib\\\\site-packages\\\\matplotlib\\\\mpl-data\\\\fonts\\\\ttf\\\\DejaVuSansDisplay.ttf', name='DejaVu Sans Display', style='normal', variant='normal', weight=400, stretch='normal', size='scalable')) = 10.05\n",
            "findfont: score(FontEntry(fname='c:\\\\Users\\\\Sani\\\\anaconda3\\\\envs\\\\ma-vqc-data-preprocessing\\\\lib\\\\site-packages\\\\matplotlib\\\\mpl-data\\\\fonts\\\\ttf\\\\STIXGeneral.ttf', name='STIXGeneral', style='normal', variant='normal', weight=400, stretch='normal', size='scalable')) = 10.05\n",
            "findfont: score(FontEntry(fname='c:\\\\Users\\\\Sani\\\\anaconda3\\\\envs\\\\ma-vqc-data-preprocessing\\\\lib\\\\site-packages\\\\matplotlib\\\\mpl-data\\\\fonts\\\\ttf\\\\DejaVuSerif-Italic.ttf', name='DejaVu Serif', style='italic', variant='normal', weight=400, stretch='normal', size='scalable')) = 11.05\n",
            "findfont: score(FontEntry(fname='c:\\\\Users\\\\Sani\\\\anaconda3\\\\envs\\\\ma-vqc-data-preprocessing\\\\lib\\\\site-packages\\\\matplotlib\\\\mpl-data\\\\fonts\\\\ttf\\\\DejaVuSerif.ttf', name='DejaVu Serif', style='normal', variant='normal', weight=400, stretch='normal', size='scalable')) = 10.05\n",
            "findfont: score(FontEntry(fname='c:\\\\Users\\\\Sani\\\\anaconda3\\\\envs\\\\ma-vqc-data-preprocessing\\\\lib\\\\site-packages\\\\matplotlib\\\\mpl-data\\\\fonts\\\\ttf\\\\cmb10.ttf', name='cmb10', style='normal', variant='normal', weight=400, stretch='normal', size='scalable')) = 10.05\n",
            "findfont: score(FontEntry(fname='c:\\\\Users\\\\Sani\\\\anaconda3\\\\envs\\\\ma-vqc-data-preprocessing\\\\lib\\\\site-packages\\\\matplotlib\\\\mpl-data\\\\fonts\\\\ttf\\\\DejaVuSansMono-Bold.ttf', name='DejaVu Sans Mono', style='normal', variant='normal', weight=700, stretch='normal', size='scalable')) = 10.335\n",
            "findfont: score(FontEntry(fname='c:\\\\Users\\\\Sani\\\\anaconda3\\\\envs\\\\ma-vqc-data-preprocessing\\\\lib\\\\site-packages\\\\matplotlib\\\\mpl-data\\\\fonts\\\\ttf\\\\STIXGeneralBolIta.ttf', name='STIXGeneral', style='italic', variant='normal', weight=700, stretch='normal', size='scalable')) = 11.335\n",
            "findfont: score(FontEntry(fname='c:\\\\Users\\\\Sani\\\\anaconda3\\\\envs\\\\ma-vqc-data-preprocessing\\\\lib\\\\site-packages\\\\matplotlib\\\\mpl-data\\\\fonts\\\\ttf\\\\STIXSizThreeSymReg.ttf', name='STIXSizeThreeSym', style='normal', variant='normal', weight=400, stretch='normal', size='scalable')) = 10.05\n",
            "findfont: score(FontEntry(fname='c:\\\\Users\\\\Sani\\\\anaconda3\\\\envs\\\\ma-vqc-data-preprocessing\\\\lib\\\\site-packages\\\\matplotlib\\\\mpl-data\\\\fonts\\\\ttf\\\\STIXNonUniBol.ttf', name='STIXNonUnicode', style='normal', variant='normal', weight=700, stretch='normal', size='scalable')) = 10.335\n",
            "findfont: score(FontEntry(fname='c:\\\\Users\\\\Sani\\\\anaconda3\\\\envs\\\\ma-vqc-data-preprocessing\\\\lib\\\\site-packages\\\\matplotlib\\\\mpl-data\\\\fonts\\\\ttf\\\\DejaVuSansMono.ttf', name='DejaVu Sans Mono', style='normal', variant='normal', weight=400, stretch='normal', size='scalable')) = 10.05\n",
            "findfont: score(FontEntry(fname='c:\\\\Users\\\\Sani\\\\anaconda3\\\\envs\\\\ma-vqc-data-preprocessing\\\\lib\\\\site-packages\\\\matplotlib\\\\mpl-data\\\\fonts\\\\ttf\\\\STIXGeneralBol.ttf', name='STIXGeneral', style='normal', variant='normal', weight=700, stretch='normal', size='scalable')) = 10.335\n",
            "findfont: score(FontEntry(fname='c:\\\\Users\\\\Sani\\\\anaconda3\\\\envs\\\\ma-vqc-data-preprocessing\\\\lib\\\\site-packages\\\\matplotlib\\\\mpl-data\\\\fonts\\\\ttf\\\\STIXSizThreeSymBol.ttf', name='STIXSizeThreeSym', style='normal', variant='normal', weight=700, stretch='normal', size='scalable')) = 10.335\n",
            "findfont: score(FontEntry(fname='c:\\\\Users\\\\Sani\\\\anaconda3\\\\envs\\\\ma-vqc-data-preprocessing\\\\lib\\\\site-packages\\\\matplotlib\\\\mpl-data\\\\fonts\\\\ttf\\\\STIXSizTwoSymReg.ttf', name='STIXSizeTwoSym', style='normal', variant='normal', weight=400, stretch='normal', size='scalable')) = 10.05\n",
            "findfont: score(FontEntry(fname='c:\\\\Users\\\\Sani\\\\anaconda3\\\\envs\\\\ma-vqc-data-preprocessing\\\\lib\\\\site-packages\\\\matplotlib\\\\mpl-data\\\\fonts\\\\ttf\\\\STIXGeneralItalic.ttf', name='STIXGeneral', style='italic', variant='normal', weight=400, stretch='normal', size='scalable')) = 11.05\n",
            "findfont: score(FontEntry(fname='c:\\\\Users\\\\Sani\\\\anaconda3\\\\envs\\\\ma-vqc-data-preprocessing\\\\lib\\\\site-packages\\\\matplotlib\\\\mpl-data\\\\fonts\\\\ttf\\\\STIXSizOneSymReg.ttf', name='STIXSizeOneSym', style='normal', variant='normal', weight=400, stretch='normal', size='scalable')) = 10.05\n",
            "findfont: score(FontEntry(fname='c:\\\\Users\\\\Sani\\\\anaconda3\\\\envs\\\\ma-vqc-data-preprocessing\\\\lib\\\\site-packages\\\\matplotlib\\\\mpl-data\\\\fonts\\\\ttf\\\\cmmi10.ttf', name='cmmi10', style='normal', variant='normal', weight=400, stretch='normal', size='scalable')) = 10.05\n",
            "findfont: score(FontEntry(fname='c:\\\\Users\\\\Sani\\\\anaconda3\\\\envs\\\\ma-vqc-data-preprocessing\\\\lib\\\\site-packages\\\\matplotlib\\\\mpl-data\\\\fonts\\\\ttf\\\\cmsy10.ttf', name='cmsy10', style='normal', variant='normal', weight=400, stretch='normal', size='scalable')) = 10.05\n",
            "findfont: score(FontEntry(fname='c:\\\\Users\\\\Sani\\\\anaconda3\\\\envs\\\\ma-vqc-data-preprocessing\\\\lib\\\\site-packages\\\\matplotlib\\\\mpl-data\\\\fonts\\\\ttf\\\\DejaVuSans-Bold.ttf', name='DejaVu Sans', style='normal', variant='normal', weight=700, stretch='normal', size='scalable')) = 0.33499999999999996\n",
            "findfont: score(FontEntry(fname='c:\\\\Users\\\\Sani\\\\anaconda3\\\\envs\\\\ma-vqc-data-preprocessing\\\\lib\\\\site-packages\\\\matplotlib\\\\mpl-data\\\\fonts\\\\ttf\\\\cmtt10.ttf', name='cmtt10', style='normal', variant='normal', weight=400, stretch='normal', size='scalable')) = 10.05\n",
            "findfont: score(FontEntry(fname='c:\\\\Users\\\\Sani\\\\anaconda3\\\\envs\\\\ma-vqc-data-preprocessing\\\\lib\\\\site-packages\\\\matplotlib\\\\mpl-data\\\\fonts\\\\ttf\\\\DejaVuSans.ttf', name='DejaVu Sans', style='normal', variant='normal', weight=400, stretch='normal', size='scalable')) = 0.05\n",
            "findfont: score(FontEntry(fname='c:\\\\Users\\\\Sani\\\\anaconda3\\\\envs\\\\ma-vqc-data-preprocessing\\\\lib\\\\site-packages\\\\matplotlib\\\\mpl-data\\\\fonts\\\\ttf\\\\DejaVuSerif-BoldItalic.ttf', name='DejaVu Serif', style='italic', variant='normal', weight=700, stretch='normal', size='scalable')) = 11.335\n",
            "findfont: score(FontEntry(fname='c:\\\\Users\\\\Sani\\\\anaconda3\\\\envs\\\\ma-vqc-data-preprocessing\\\\lib\\\\site-packages\\\\matplotlib\\\\mpl-data\\\\fonts\\\\ttf\\\\STIXSizFourSymBol.ttf', name='STIXSizeFourSym', style='normal', variant='normal', weight=700, stretch='normal', size='scalable')) = 10.335\n",
            "findfont: score(FontEntry(fname='c:\\\\Users\\\\Sani\\\\anaconda3\\\\envs\\\\ma-vqc-data-preprocessing\\\\lib\\\\site-packages\\\\matplotlib\\\\mpl-data\\\\fonts\\\\ttf\\\\DejaVuSerifDisplay.ttf', name='DejaVu Serif Display', style='normal', variant='normal', weight=400, stretch='normal', size='scalable')) = 10.05\n",
            "findfont: score(FontEntry(fname='c:\\\\Users\\\\Sani\\\\anaconda3\\\\envs\\\\ma-vqc-data-preprocessing\\\\lib\\\\site-packages\\\\matplotlib\\\\mpl-data\\\\fonts\\\\ttf\\\\STIXSizOneSymBol.ttf', name='STIXSizeOneSym', style='normal', variant='normal', weight=700, stretch='normal', size='scalable')) = 10.335\n",
            "findfont: score(FontEntry(fname='c:\\\\Users\\\\Sani\\\\anaconda3\\\\envs\\\\ma-vqc-data-preprocessing\\\\lib\\\\site-packages\\\\matplotlib\\\\mpl-data\\\\fonts\\\\ttf\\\\STIXNonUni.ttf', name='STIXNonUnicode', style='normal', variant='normal', weight=400, stretch='normal', size='scalable')) = 10.05\n",
            "findfont: score(FontEntry(fname='c:\\\\Users\\\\Sani\\\\anaconda3\\\\envs\\\\ma-vqc-data-preprocessing\\\\lib\\\\site-packages\\\\matplotlib\\\\mpl-data\\\\fonts\\\\ttf\\\\STIXSizFiveSymReg.ttf', name='STIXSizeFiveSym', style='normal', variant='normal', weight=400, stretch='normal', size='scalable')) = 10.05\n",
            "findfont: score(FontEntry(fname='c:\\\\Users\\\\Sani\\\\anaconda3\\\\envs\\\\ma-vqc-data-preprocessing\\\\lib\\\\site-packages\\\\matplotlib\\\\mpl-data\\\\fonts\\\\ttf\\\\DejaVuSans-BoldOblique.ttf', name='DejaVu Sans', style='oblique', variant='normal', weight=700, stretch='normal', size='scalable')) = 1.335\n",
            "findfont: score(FontEntry(fname='c:\\\\Users\\\\Sani\\\\anaconda3\\\\envs\\\\ma-vqc-data-preprocessing\\\\lib\\\\site-packages\\\\matplotlib\\\\mpl-data\\\\fonts\\\\ttf\\\\STIXNonUniIta.ttf', name='STIXNonUnicode', style='italic', variant='normal', weight=400, stretch='normal', size='scalable')) = 11.05\n",
            "findfont: score(FontEntry(fname='c:\\\\Users\\\\Sani\\\\anaconda3\\\\envs\\\\ma-vqc-data-preprocessing\\\\lib\\\\site-packages\\\\matplotlib\\\\mpl-data\\\\fonts\\\\ttf\\\\cmss10.ttf', name='cmss10', style='normal', variant='normal', weight=400, stretch='normal', size='scalable')) = 10.05\n",
            "findfont: score(FontEntry(fname='c:\\\\Users\\\\Sani\\\\anaconda3\\\\envs\\\\ma-vqc-data-preprocessing\\\\lib\\\\site-packages\\\\matplotlib\\\\mpl-data\\\\fonts\\\\ttf\\\\STIXSizTwoSymBol.ttf', name='STIXSizeTwoSym', style='normal', variant='normal', weight=700, stretch='normal', size='scalable')) = 10.335\n",
            "findfont: score(FontEntry(fname='C:\\\\Windows\\\\Fonts\\\\Candara.ttf', name='Candara', style='normal', variant='normal', weight=400, stretch='normal', size='scalable')) = 10.05\n",
            "findfont: score(FontEntry(fname='C:\\\\Program Files\\\\DJUCED\\\\font\\\\Roboto-Medium.ttf', name='Roboto', style='normal', variant='normal', weight=500, stretch='normal', size='scalable')) = 10.145\n",
            "findfont: score(FontEntry(fname='C:\\\\Windows\\\\Fonts\\\\verdanaz.ttf', name='Verdana', style='italic', variant='normal', weight=700, stretch='normal', size='scalable')) = 4.971363636363637\n",
            "findfont: score(FontEntry(fname='C:\\\\Windows\\\\Fonts\\\\corbeli.ttf', name='Corbel', style='italic', variant='normal', weight=400, stretch='normal', size='scalable')) = 11.05\n",
            "findfont: score(FontEntry(fname='C:\\\\Windows\\\\Fonts\\\\arial.ttf', name='Arial', style='normal', variant='normal', weight=400, stretch='normal', size='scalable')) = 6.413636363636363\n",
            "findfont: score(FontEntry(fname='C:\\\\Windows\\\\Fonts\\\\Candarab.ttf', name='Candara', style='normal', variant='normal', weight=700, stretch='normal', size='scalable')) = 10.335\n",
            "findfont: score(FontEntry(fname='C:\\\\Windows\\\\Fonts\\\\msyhbd.ttc', name='Microsoft YaHei', style='normal', variant='normal', weight=700, stretch='normal', size='scalable')) = 10.335\n",
            "findfont: score(FontEntry(fname='C:\\\\Windows\\\\Fonts\\\\YuGothB.ttc', name='Yu Gothic', style='normal', variant='normal', weight=700, stretch='normal', size='scalable')) = 10.335\n",
            "findfont: score(FontEntry(fname='C:\\\\Windows\\\\Fonts\\\\constani.ttf', name='Constantia', style='italic', variant='normal', weight=400, stretch='normal', size='scalable')) = 11.05\n",
            "findfont: score(FontEntry(fname='C:\\\\Windows\\\\Fonts\\\\courbi.ttf', name='Courier New', style='italic', variant='normal', weight=700, stretch='normal', size='scalable')) = 11.335\n",
            "findfont: score(FontEntry(fname='C:\\\\Windows\\\\Fonts\\\\msyi.ttf', name='Microsoft Yi Baiti', style='normal', variant='normal', weight=400, stretch='normal', size='scalable')) = 10.05\n",
            "findfont: score(FontEntry(fname='C:\\\\Windows\\\\Fonts\\\\comicbd.ttf', name='Comic Sans MS', style='normal', variant='normal', weight=700, stretch='normal', size='scalable')) = 10.335\n",
            "findfont: score(FontEntry(fname='C:\\\\Windows\\\\Fonts\\\\georgiaz.ttf', name='Georgia', style='italic', variant='normal', weight=700, stretch='normal', size='scalable')) = 11.335\n",
            "findfont: score(FontEntry(fname='C:\\\\Windows\\\\Fonts\\\\wingding.ttf', name='Wingdings', style='normal', variant='normal', weight=400, stretch='normal', size='scalable')) = 10.05\n",
            "findfont: score(FontEntry(fname='C:\\\\Windows\\\\Fonts\\\\ntailu.ttf', name='Microsoft New Tai Lue', style='normal', variant='normal', weight=400, stretch='normal', size='scalable')) = 10.05\n",
            "findfont: score(FontEntry(fname='C:\\\\Program Files\\\\DJUCED\\\\font\\\\OpenSans-Bold.ttf', name='Open Sans', style='normal', variant='normal', weight=700, stretch='normal', size='scalable')) = 10.335\n",
            "findfont: score(FontEntry(fname='C:\\\\Windows\\\\Fonts\\\\marlett.ttf', name='Marlett', style='normal', variant='normal', weight=500, stretch='normal', size='scalable')) = 10.145\n",
            "findfont: score(FontEntry(fname='C:\\\\Windows\\\\Fonts\\\\calibri.ttf', name='Calibri', style='normal', variant='normal', weight=400, stretch='normal', size='scalable')) = 10.05\n",
            "findfont: score(FontEntry(fname='C:\\\\Windows\\\\Fonts\\\\Candaraz.ttf', name='Candara', style='italic', variant='normal', weight=700, stretch='normal', size='scalable')) = 11.335\n",
            "findfont: score(FontEntry(fname='C:\\\\Windows\\\\Fonts\\\\Candarai.ttf', name='Candara', style='italic', variant='normal', weight=400, stretch='normal', size='scalable')) = 11.05\n",
            "findfont: score(FontEntry(fname='C:\\\\Windows\\\\Fonts\\\\Sitka.ttc', name='Sitka Small', style='normal', variant='normal', weight=400, stretch='normal', size='scalable')) = 10.05\n",
            "findfont: score(FontEntry(fname='C:\\\\Windows\\\\Fonts\\\\tahoma.ttf', name='Tahoma', style='normal', variant='normal', weight=400, stretch='normal', size='scalable')) = 10.05\n",
            "findfont: score(FontEntry(fname='C:\\\\Windows\\\\Fonts\\\\himalaya.ttf', name='Microsoft Himalaya', style='normal', variant='normal', weight=400, stretch='normal', size='scalable')) = 10.05\n",
            "findfont: score(FontEntry(fname='C:\\\\Windows\\\\Fonts\\\\seguisbi.ttf', name='Segoe UI', style='italic', variant='normal', weight=600, stretch='normal', size='scalable')) = 11.24\n",
            "findfont: score(FontEntry(fname='C:\\\\Windows\\\\Fonts\\\\javatext.ttf', name='Javanese Text', style='normal', variant='normal', weight=400, stretch='normal', size='scalable')) = 10.05\n",
            "findfont: score(FontEntry(fname='C:\\\\Windows\\\\Fonts\\\\msyh.ttc', name='Microsoft YaHei', style='normal', variant='normal', weight=400, stretch='normal', size='scalable')) = 10.05\n",
            "findfont: score(FontEntry(fname='C:\\\\Windows\\\\Fonts\\\\Candarali.ttf', name='Candara', style='italic', variant='normal', weight=400, stretch='normal', size='scalable')) = 11.05\n",
            "findfont: score(FontEntry(fname='C:\\\\Windows\\\\Fonts\\\\ariblk.ttf', name='Arial', style='normal', variant='normal', weight=900, stretch='normal', size='scalable')) = 6.888636363636364\n",
            "findfont: score(FontEntry(fname='C:\\\\Windows\\\\Fonts\\\\cambria.ttc', name='Cambria', style='normal', variant='normal', weight=400, stretch='normal', size='scalable')) = 10.05\n",
            "findfont: score(FontEntry(fname='C:\\\\Windows\\\\Fonts\\\\sylfaen.ttf', name='Sylfaen', style='normal', variant='normal', weight=400, stretch='normal', size='scalable')) = 10.05\n",
            "findfont: score(FontEntry(fname='C:\\\\Windows\\\\Fonts\\\\mmrtextb.ttf', name='Myanmar Text', style='normal', variant='normal', weight=700, stretch='normal', size='scalable')) = 10.335\n",
            "findfont: score(FontEntry(fname='C:\\\\Windows\\\\Fonts\\\\timesbd.ttf', name='Times New Roman', style='normal', variant='normal', weight=700, stretch='normal', size='scalable')) = 10.335\n",
            "findfont: score(FontEntry(fname='C:\\\\Windows\\\\Fonts\\\\cour.ttf', name='Courier New', style='normal', variant='normal', weight=400, stretch='normal', size='scalable')) = 10.05\n",
            "findfont: score(FontEntry(fname='C:\\\\Windows\\\\Fonts\\\\malgunsl.ttf', name='Malgun Gothic', style='normal', variant='normal', weight=300, stretch='normal', size='scalable')) = 10.145\n",
            "findfont: score(FontEntry(fname='C:\\\\Windows\\\\Fonts\\\\msjh.ttc', name='Microsoft JhengHei', style='normal', variant='normal', weight=400, stretch='normal', size='scalable')) = 10.05\n",
            "findfont: score(FontEntry(fname='C:\\\\Windows\\\\Fonts\\\\trebucbd.ttf', name='Trebuchet MS', style='normal', variant='normal', weight=700, stretch='normal', size='scalable')) = 10.335\n",
            "findfont: score(FontEntry(fname='C:\\\\Windows\\\\Fonts\\\\timesbi.ttf', name='Times New Roman', style='italic', variant='normal', weight=700, stretch='normal', size='scalable')) = 11.335\n",
            "findfont: score(FontEntry(fname='C:\\\\Windows\\\\Fonts\\\\segoepr.ttf', name='Segoe Print', style='normal', variant='normal', weight=400, stretch='normal', size='scalable')) = 10.05\n",
            "findfont: score(FontEntry(fname='C:\\\\Windows\\\\Fonts\\\\mmrtext.ttf', name='Myanmar Text', style='normal', variant='normal', weight=400, stretch='normal', size='scalable')) = 10.05\n",
            "findfont: score(FontEntry(fname='C:\\\\Windows\\\\Fonts\\\\consolaz.ttf', name='Consolas', style='italic', variant='normal', weight=700, stretch='normal', size='scalable')) = 11.335\n",
            "findfont: score(FontEntry(fname='C:\\\\Windows\\\\Fonts\\\\phagspa.ttf', name='Microsoft PhagsPa', style='normal', variant='normal', weight=400, stretch='normal', size='scalable')) = 10.05\n",
            "findfont: score(FontEntry(fname='C:\\\\Windows\\\\Fonts\\\\calibriz.ttf', name='Calibri', style='italic', variant='normal', weight=700, stretch='normal', size='scalable')) = 11.335\n",
            "findfont: score(FontEntry(fname='C:\\\\Windows\\\\Fonts\\\\LeelawUI.ttf', name='Leelawadee UI', style='normal', variant='normal', weight=400, stretch='normal', size='scalable')) = 10.05\n",
            "findfont: score(FontEntry(fname='C:\\\\Windows\\\\Fonts\\\\holomdl2.ttf', name='HoloLens MDL2 Assets', style='normal', variant='normal', weight=400, stretch='normal', size='scalable')) = 10.05\n",
            "findfont: score(FontEntry(fname='C:\\\\Windows\\\\Fonts\\\\verdanai.ttf', name='Verdana', style='italic', variant='normal', weight=400, stretch='normal', size='scalable')) = 4.6863636363636365\n",
            "findfont: score(FontEntry(fname='C:\\\\Windows\\\\Fonts\\\\monbaiti.ttf', name='Mongolian Baiti', style='normal', variant='normal', weight=400, stretch='normal', size='scalable')) = 10.05\n",
            "findfont: score(FontEntry(fname='C:\\\\Windows\\\\Fonts\\\\seguili.ttf', name='Segoe UI', style='italic', variant='normal', weight=300, stretch='normal', size='scalable')) = 11.145\n",
            "findfont: score(FontEntry(fname='C:\\\\Windows\\\\Fonts\\\\consola.ttf', name='Consolas', style='normal', variant='normal', weight=400, stretch='normal', size='scalable')) = 10.05\n",
            "findfont: score(FontEntry(fname='C:\\\\Windows\\\\Fonts\\\\constanz.ttf', name='Constantia', style='italic', variant='normal', weight=700, stretch='normal', size='scalable')) = 11.335\n",
            "findfont: score(FontEntry(fname='C:\\\\Windows\\\\Fonts\\\\seguihis.ttf', name='Segoe UI Historic', style='normal', variant='normal', weight=400, stretch='normal', size='scalable')) = 10.05\n",
            "findfont: score(FontEntry(fname='C:\\\\Windows\\\\Fonts\\\\mvboli.ttf', name='MV Boli', style='normal', variant='normal', weight=400, stretch='normal', size='scalable')) = 10.05\n",
            "findfont: score(FontEntry(fname='C:\\\\Windows\\\\Fonts\\\\ebrimabd.ttf', name='Ebrima', style='normal', variant='normal', weight=700, stretch='normal', size='scalable')) = 10.335\n",
            "findfont: score(FontEntry(fname='C:\\\\Windows\\\\Fonts\\\\seguiemj.ttf', name='Segoe UI Emoji', style='normal', variant='normal', weight=400, stretch='normal', size='scalable')) = 10.05\n",
            "findfont: score(FontEntry(fname='C:\\\\Windows\\\\Fonts\\\\verdanab.ttf', name='Verdana', style='normal', variant='normal', weight=700, stretch='normal', size='scalable')) = 3.9713636363636367\n",
            "findfont: score(FontEntry(fname='C:\\\\Windows\\\\Fonts\\\\webdings.ttf', name='Webdings', style='normal', variant='normal', weight=400, stretch='normal', size='scalable')) = 10.05\n",
            "findfont: score(FontEntry(fname='C:\\\\Windows\\\\Fonts\\\\seguisb.ttf', name='Segoe UI', style='normal', variant='normal', weight=600, stretch='normal', size='scalable')) = 10.24\n",
            "findfont: score(FontEntry(fname='C:\\\\Windows\\\\Fonts\\\\framd.ttf', name='Franklin Gothic Medium', style='normal', variant='normal', weight=400, stretch='normal', size='scalable')) = 10.05\n",
            "findfont: score(FontEntry(fname='C:\\\\Windows\\\\Fonts\\\\ebrima.ttf', name='Ebrima', style='normal', variant='normal', weight=400, stretch='normal', size='scalable')) = 10.05\n",
            "findfont: score(FontEntry(fname='C:\\\\Windows\\\\Fonts\\\\YuGothL.ttc', name='Yu Gothic', style='normal', variant='normal', weight=300, stretch='normal', size='scalable')) = 10.145\n",
            "findfont: score(FontEntry(fname='C:\\\\Windows\\\\Fonts\\\\SitkaZ.ttc', name='Sitka Small', style='italic', variant='normal', weight=700, stretch='normal', size='scalable')) = 11.335\n",
            "findfont: score(FontEntry(fname='C:\\\\Windows\\\\Fonts\\\\cambriaz.ttf', name='Cambria', style='italic', variant='normal', weight=700, stretch='normal', size='scalable')) = 11.335\n",
            "findfont: score(FontEntry(fname='C:\\\\Windows\\\\Fonts\\\\pala.ttf', name='Palatino Linotype', style='normal', variant='normal', weight=400, stretch='normal', size='scalable')) = 10.05\n",
            "findfont: score(FontEntry(fname='C:\\\\Windows\\\\Fonts\\\\mingliub.ttc', name='MingLiU-ExtB', style='normal', variant='normal', weight=400, stretch='normal', size='scalable')) = 10.05\n",
            "findfont: score(FontEntry(fname='C:\\\\Windows\\\\Fonts\\\\couri.ttf', name='Courier New', style='italic', variant='normal', weight=400, stretch='normal', size='scalable')) = 11.05\n",
            "findfont: score(FontEntry(fname='C:\\\\Windows\\\\Fonts\\\\segoeuib.ttf', name='Segoe UI', style='normal', variant='normal', weight=700, stretch='normal', size='scalable')) = 10.335\n",
            "findfont: score(FontEntry(fname='C:\\\\Windows\\\\Fonts\\\\YuGothM.ttc', name='Yu Gothic', style='normal', variant='normal', weight=500, stretch='normal', size='scalable')) = 10.145\n",
            "findfont: score(FontEntry(fname='C:\\\\Windows\\\\Fonts\\\\segoeui.ttf', name='Segoe UI', style='normal', variant='normal', weight=400, stretch='normal', size='scalable')) = 10.05\n",
            "findfont: score(FontEntry(fname='C:\\\\Windows\\\\Fonts\\\\segoeuii.ttf', name='Segoe UI', style='italic', variant='normal', weight=400, stretch='normal', size='scalable')) = 11.05\n",
            "findfont: score(FontEntry(fname='C:\\\\Windows\\\\Fonts\\\\ariali.ttf', name='Arial', style='italic', variant='normal', weight=400, stretch='normal', size='scalable')) = 7.413636363636363\n",
            "findfont: score(FontEntry(fname='C:\\\\Windows\\\\Fonts\\\\LeelaUIb.ttf', name='Leelawadee UI', style='normal', variant='normal', weight=700, stretch='normal', size='scalable')) = 10.335\n",
            "findfont: score(FontEntry(fname='C:\\\\Windows\\\\Fonts\\\\georgiai.ttf', name='Georgia', style='italic', variant='normal', weight=400, stretch='normal', size='scalable')) = 11.05\n",
            "findfont: score(FontEntry(fname='C:\\\\Windows\\\\Fonts\\\\msjhl.ttc', name='Microsoft JhengHei', style='normal', variant='normal', weight=290, stretch='normal', size='scalable')) = 10.1545\n",
            "findfont: score(FontEntry(fname='C:\\\\Windows\\\\Fonts\\\\corbell.ttf', name='Corbel', style='normal', variant='normal', weight=300, stretch='normal', size='scalable')) = 10.145\n",
            "findfont: score(FontEntry(fname='C:\\\\Program Files\\\\DJUCED\\\\font\\\\Roboto-Bold.ttf', name='Roboto', style='normal', variant='normal', weight=700, stretch='normal', size='scalable')) = 10.335\n",
            "findfont: score(FontEntry(fname='C:\\\\Windows\\\\Fonts\\\\gadugib.ttf', name='Gadugi', style='normal', variant='normal', weight=700, stretch='normal', size='scalable')) = 10.335\n",
            "findfont: score(FontEntry(fname='C:\\\\Windows\\\\Fonts\\\\palabi.ttf', name='Palatino Linotype', style='italic', variant='normal', weight=700, stretch='normal', size='scalable')) = 11.335\n",
            "findfont: score(FontEntry(fname='C:\\\\Windows\\\\Fonts\\\\cambriai.ttf', name='Cambria', style='italic', variant='normal', weight=400, stretch='normal', size='scalable')) = 11.05\n",
            "findfont: score(FontEntry(fname='C:\\\\Windows\\\\Fonts\\\\Inkfree.ttf', name='Ink Free', style='normal', variant='normal', weight=400, stretch='normal', size='scalable')) = 10.05\n",
            "findfont: score(FontEntry(fname='C:\\\\Windows\\\\Fonts\\\\YuGothR.ttc', name='Yu Gothic', style='normal', variant='normal', weight=400, stretch='normal', size='scalable')) = 10.05\n",
            "findfont: score(FontEntry(fname='C:\\\\Windows\\\\Fonts\\\\segoeprb.ttf', name='Segoe Print', style='normal', variant='normal', weight=700, stretch='normal', size='scalable')) = 10.335\n",
            "findfont: score(FontEntry(fname='C:\\\\Windows\\\\Fonts\\\\simsun.ttc', name='SimSun', style='normal', variant='normal', weight=400, stretch='normal', size='scalable')) = 10.05\n",
            "findfont: score(FontEntry(fname='C:\\\\Windows\\\\Fonts\\\\georgia.ttf', name='Georgia', style='normal', variant='normal', weight=400, stretch='normal', size='scalable')) = 10.05\n",
            "findfont: score(FontEntry(fname='C:\\\\Windows\\\\Fonts\\\\trebucit.ttf', name='Trebuchet MS', style='italic', variant='normal', weight=400, stretch='normal', size='scalable')) = 11.05\n",
            "findfont: score(FontEntry(fname='C:\\\\Windows\\\\Fonts\\\\segoeuiz.ttf', name='Segoe UI', style='italic', variant='normal', weight=700, stretch='normal', size='scalable')) = 11.335\n",
            "findfont: score(FontEntry(fname='C:\\\\Windows\\\\Fonts\\\\bahnschrift.ttf', name='Bahnschrift', style='normal', variant='normal', weight=400, stretch='normal', size='scalable')) = 10.05\n",
            "findfont: score(FontEntry(fname='C:\\\\Windows\\\\Fonts\\\\NirmalaB.ttf', name='Nirmala UI', style='normal', variant='normal', weight=700, stretch='normal', size='scalable')) = 10.335\n",
            "findfont: score(FontEntry(fname='C:\\\\Windows\\\\Fonts\\\\comicz.ttf', name='Comic Sans MS', style='italic', variant='normal', weight=700, stretch='normal', size='scalable')) = 11.335\n",
            "findfont: score(FontEntry(fname='C:\\\\Windows\\\\Fonts\\\\times.ttf', name='Times New Roman', style='normal', variant='normal', weight=400, stretch='normal', size='scalable')) = 10.05\n",
            "findfont: score(FontEntry(fname='C:\\\\Windows\\\\Fonts\\\\simsunb.ttf', name='SimSun-ExtB', style='normal', variant='normal', weight=400, stretch='normal', size='scalable')) = 10.05\n",
            "findfont: score(FontEntry(fname='C:\\\\Windows\\\\Fonts\\\\seguibli.ttf', name='Segoe UI', style='italic', variant='normal', weight=900, stretch='normal', size='scalable')) = 11.525\n",
            "findfont: score(FontEntry(fname='C:\\\\Windows\\\\Fonts\\\\msjhbd.ttc', name='Microsoft JhengHei', style='normal', variant='normal', weight=700, stretch='normal', size='scalable')) = 10.335\n",
            "findfont: score(FontEntry(fname='C:\\\\Windows\\\\Fonts\\\\palab.ttf', name='Palatino Linotype', style='normal', variant='normal', weight=700, stretch='normal', size='scalable')) = 10.335\n",
            "findfont: score(FontEntry(fname='C:\\\\Windows\\\\Fonts\\\\georgiab.ttf', name='Georgia', style='normal', variant='normal', weight=700, stretch='normal', size='scalable')) = 10.335\n",
            "findfont: score(FontEntry(fname='C:\\\\Windows\\\\Fonts\\\\comici.ttf', name='Comic Sans MS', style='italic', variant='normal', weight=400, stretch='normal', size='scalable')) = 11.05\n",
            "findfont: score(FontEntry(fname='C:\\\\Windows\\\\Fonts\\\\segmdl2.ttf', name='Segoe MDL2 Assets', style='normal', variant='normal', weight=400, stretch='normal', size='scalable')) = 10.05\n",
            "findfont: score(FontEntry(fname='C:\\\\Windows\\\\Fonts\\\\verdana.ttf', name='Verdana', style='normal', variant='normal', weight=400, stretch='normal', size='scalable')) = 3.6863636363636365\n",
            "findfont: score(FontEntry(fname='C:\\\\Windows\\\\Fonts\\\\seguisli.ttf', name='Segoe UI', style='italic', variant='normal', weight=350, stretch='normal', size='scalable')) = 11.0975\n",
            "findfont: score(FontEntry(fname='C:\\\\Windows\\\\Fonts\\\\l_10646.ttf', name='Lucida Sans Unicode', style='normal', variant='normal', weight=400, stretch='normal', size='scalable')) = 10.05\n",
            "findfont: score(FontEntry(fname='C:\\\\Windows\\\\Fonts\\\\consolab.ttf', name='Consolas', style='normal', variant='normal', weight=700, stretch='normal', size='scalable')) = 10.335\n",
            "findfont: score(FontEntry(fname='C:\\\\Windows\\\\Fonts\\\\trebuc.ttf', name='Trebuchet MS', style='normal', variant='normal', weight=400, stretch='normal', size='scalable')) = 10.05\n",
            "findfont: score(FontEntry(fname='C:\\\\Windows\\\\Fonts\\\\corbelz.ttf', name='Corbel', style='italic', variant='normal', weight=700, stretch='normal', size='scalable')) = 11.335\n",
            "findfont: score(FontEntry(fname='C:\\\\Windows\\\\Fonts\\\\malgunbd.ttf', name='Malgun Gothic', style='normal', variant='normal', weight=700, stretch='normal', size='scalable')) = 10.335\n",
            "findfont: score(FontEntry(fname='C:\\\\Windows\\\\Fonts\\\\constanb.ttf', name='Constantia', style='normal', variant='normal', weight=700, stretch='normal', size='scalable')) = 10.335\n",
            "findfont: score(FontEntry(fname='C:\\\\Windows\\\\Fonts\\\\arialbd.ttf', name='Arial', style='normal', variant='normal', weight=700, stretch='normal', size='scalable')) = 6.698636363636363\n",
            "findfont: score(FontEntry(fname='C:\\\\Windows\\\\Fonts\\\\taileb.ttf', name='Microsoft Tai Le', style='normal', variant='normal', weight=700, stretch='normal', size='scalable')) = 10.335\n",
            "findfont: score(FontEntry(fname='C:\\\\Windows\\\\Fonts\\\\corbel.ttf', name='Corbel', style='normal', variant='normal', weight=400, stretch='normal', size='scalable')) = 10.05\n",
            "findfont: score(FontEntry(fname='C:\\\\Windows\\\\Fonts\\\\gadugi.ttf', name='Gadugi', style='normal', variant='normal', weight=400, stretch='normal', size='scalable')) = 10.05\n",
            "findfont: score(FontEntry(fname='C:\\\\Windows\\\\Fonts\\\\micross.ttf', name='Microsoft Sans Serif', style='normal', variant='normal', weight=400, stretch='normal', size='scalable')) = 10.05\n",
            "findfont: score(FontEntry(fname='C:\\\\Windows\\\\Fonts\\\\Candaral.ttf', name='Candara', style='normal', variant='normal', weight=400, stretch='normal', size='scalable')) = 10.05\n",
            "findfont: score(FontEntry(fname='C:\\\\Windows\\\\Fonts\\\\comic.ttf', name='Comic Sans MS', style='normal', variant='normal', weight=400, stretch='normal', size='scalable')) = 10.05\n",
            "findfont: score(FontEntry(fname='C:\\\\Windows\\\\Fonts\\\\corbelb.ttf', name='Corbel', style='normal', variant='normal', weight=700, stretch='normal', size='scalable')) = 10.335\n",
            "findfont: score(FontEntry(fname='C:\\\\Windows\\\\Fonts\\\\NirmalaS.ttf', name='Nirmala UI', style='normal', variant='normal', weight=350, stretch='normal', size='scalable')) = 10.0975\n",
            "findfont: score(FontEntry(fname='C:\\\\Windows\\\\Fonts\\\\constan.ttf', name='Constantia', style='normal', variant='normal', weight=400, stretch='normal', size='scalable')) = 10.05\n",
            "findfont: score(FontEntry(fname='C:\\\\Windows\\\\Fonts\\\\corbelli.ttf', name='Corbel', style='italic', variant='normal', weight=300, stretch='normal', size='scalable')) = 11.145\n",
            "findfont: score(FontEntry(fname='C:\\\\Windows\\\\Fonts\\\\SitkaB.ttc', name='Sitka Small', style='normal', variant='normal', weight=700, stretch='normal', size='scalable')) = 10.335\n",
            "findfont: score(FontEntry(fname='C:\\\\Windows\\\\Fonts\\\\calibril.ttf', name='Calibri', style='normal', variant='normal', weight=300, stretch='normal', size='scalable')) = 10.145\n",
            "findfont: score(FontEntry(fname='C:\\\\Windows\\\\Fonts\\\\taile.ttf', name='Microsoft Tai Le', style='normal', variant='normal', weight=400, stretch='normal', size='scalable')) = 10.05\n",
            "findfont: score(FontEntry(fname='C:\\\\Windows\\\\Fonts\\\\phagspab.ttf', name='Microsoft PhagsPa', style='normal', variant='normal', weight=700, stretch='normal', size='scalable')) = 10.335\n",
            "findfont: score(FontEntry(fname='C:\\\\Windows\\\\Fonts\\\\Gabriola.ttf', name='Gabriola', style='normal', variant='normal', weight=400, stretch='normal', size='scalable')) = 10.05\n",
            "findfont: score(FontEntry(fname='C:\\\\Windows\\\\Fonts\\\\msgothic.ttc', name='MS Gothic', style='normal', variant='normal', weight=400, stretch='normal', size='scalable')) = 10.05\n",
            "findfont: score(FontEntry(fname='C:\\\\Windows\\\\Fonts\\\\palai.ttf', name='Palatino Linotype', style='italic', variant='normal', weight=400, stretch='normal', size='scalable')) = 11.05\n",
            "findfont: score(FontEntry(fname='C:\\\\Windows\\\\Fonts\\\\msyhl.ttc', name='Microsoft YaHei', style='normal', variant='normal', weight=290, stretch='normal', size='scalable')) = 10.1545\n",
            "findfont: score(FontEntry(fname='C:\\\\Windows\\\\Fonts\\\\LeelUIsl.ttf', name='Leelawadee UI', style='normal', variant='normal', weight=350, stretch='normal', size='scalable')) = 10.0975\n",
            "findfont: score(FontEntry(fname='C:\\\\Windows\\\\Fonts\\\\calibrib.ttf', name='Calibri', style='normal', variant='normal', weight=700, stretch='normal', size='scalable')) = 10.335\n",
            "findfont: score(FontEntry(fname='C:\\\\Windows\\\\Fonts\\\\consolai.ttf', name='Consolas', style='italic', variant='normal', weight=400, stretch='normal', size='scalable')) = 11.05\n",
            "findfont: score(FontEntry(fname='C:\\\\Windows\\\\Fonts\\\\framdit.ttf', name='Franklin Gothic Medium', style='italic', variant='normal', weight=400, stretch='normal', size='scalable')) = 11.05\n",
            "findfont: score(FontEntry(fname='C:\\\\Windows\\\\Fonts\\\\courbd.ttf', name='Courier New', style='normal', variant='normal', weight=700, stretch='normal', size='scalable')) = 10.335\n",
            "findfont: score(FontEntry(fname='C:\\\\Windows\\\\Fonts\\\\cambriab.ttf', name='Cambria', style='normal', variant='normal', weight=700, stretch='normal', size='scalable')) = 10.335\n",
            "findfont: score(FontEntry(fname='C:\\\\Windows\\\\Fonts\\\\segoesc.ttf', name='Segoe Script', style='normal', variant='normal', weight=400, stretch='normal', size='scalable')) = 10.05\n",
            "findfont: score(FontEntry(fname='C:\\\\Windows\\\\Fonts\\\\calibrii.ttf', name='Calibri', style='italic', variant='normal', weight=400, stretch='normal', size='scalable')) = 11.05\n",
            "findfont: score(FontEntry(fname='C:\\\\Windows\\\\Fonts\\\\seguisym.ttf', name='Segoe UI Symbol', style='normal', variant='normal', weight=400, stretch='normal', size='scalable')) = 10.05\n",
            "findfont: score(FontEntry(fname='C:\\\\Windows\\\\Fonts\\\\segoescb.ttf', name='Segoe Script', style='normal', variant='normal', weight=700, stretch='normal', size='scalable')) = 10.335\n",
            "findfont: score(FontEntry(fname='C:\\\\Windows\\\\Fonts\\\\seguibl.ttf', name='Segoe UI', style='normal', variant='normal', weight=900, stretch='normal', size='scalable')) = 10.525\n",
            "findfont: score(FontEntry(fname='C:\\\\Windows\\\\Fonts\\\\tahomabd.ttf', name='Tahoma', style='normal', variant='normal', weight=700, stretch='normal', size='scalable')) = 10.335\n",
            "findfont: score(FontEntry(fname='C:\\\\Windows\\\\Fonts\\\\arialbi.ttf', name='Arial', style='italic', variant='normal', weight=700, stretch='normal', size='scalable')) = 7.698636363636363\n",
            "findfont: score(FontEntry(fname='C:\\\\Windows\\\\Fonts\\\\calibrili.ttf', name='Calibri', style='italic', variant='normal', weight=300, stretch='normal', size='scalable')) = 11.145\n",
            "findfont: score(FontEntry(fname='C:\\\\Windows\\\\Fonts\\\\impact.ttf', name='Impact', style='normal', variant='normal', weight=400, stretch='normal', size='scalable')) = 10.05\n",
            "findfont: score(FontEntry(fname='C:\\\\Windows\\\\Fonts\\\\trebucbi.ttf', name='Trebuchet MS', style='italic', variant='normal', weight=700, stretch='normal', size='scalable')) = 11.335\n",
            "findfont: score(FontEntry(fname='C:\\\\Windows\\\\Fonts\\\\Nirmala.ttf', name='Nirmala UI', style='normal', variant='normal', weight=400, stretch='normal', size='scalable')) = 10.05\n",
            "findfont: score(FontEntry(fname='C:\\\\Windows\\\\Fonts\\\\malgun.ttf', name='Malgun Gothic', style='normal', variant='normal', weight=400, stretch='normal', size='scalable')) = 10.05\n",
            "findfont: score(FontEntry(fname='C:\\\\Windows\\\\Fonts\\\\lucon.ttf', name='Lucida Console', style='normal', variant='normal', weight=400, stretch='normal', size='scalable')) = 10.05\n",
            "findfont: score(FontEntry(fname='C:\\\\Windows\\\\Fonts\\\\segoeuil.ttf', name='Segoe UI', style='normal', variant='normal', weight=300, stretch='normal', size='scalable')) = 10.145\n",
            "findfont: score(FontEntry(fname='C:\\\\Windows\\\\Fonts\\\\SitkaI.ttc', name='Sitka Small', style='italic', variant='normal', weight=400, stretch='normal', size='scalable')) = 11.05\n",
            "findfont: score(FontEntry(fname='C:\\\\Windows\\\\Fonts\\\\segoeuisl.ttf', name='Segoe UI', style='normal', variant='normal', weight=350, stretch='normal', size='scalable')) = 10.0975\n",
            "findfont: score(FontEntry(fname='C:\\\\Windows\\\\Fonts\\\\timesi.ttf', name='Times New Roman', style='italic', variant='normal', weight=400, stretch='normal', size='scalable')) = 11.05\n",
            "findfont: score(FontEntry(fname='C:\\\\Windows\\\\Fonts\\\\ntailub.ttf', name='Microsoft New Tai Lue', style='normal', variant='normal', weight=700, stretch='normal', size='scalable')) = 10.335\n",
            "findfont: score(FontEntry(fname='C:\\\\Windows\\\\Fonts\\\\symbol.ttf', name='Symbol', style='normal', variant='normal', weight=400, stretch='normal', size='scalable')) = 10.05\n",
            "findfont: Matching sans\\-serif:style=normal:variant=normal:weight=normal:stretch=normal:size=10.0 to DejaVu Sans ('c:\\\\Users\\\\Sani\\\\anaconda3\\\\envs\\\\ma-vqc-data-preprocessing\\\\lib\\\\site-packages\\\\matplotlib\\\\mpl-data\\\\fonts\\\\ttf\\\\DejaVuSans.ttf') with score of 0.050000.\n",
            "locator: <matplotlib.ticker.AutoLocator object at 0x0000022D26E61EA0>\n",
            "[[321818     11]\n",
            " [    61     46]]\n"
          ]
        },
        {
          "data": {
            "image/png": "[encoded data removed]",
            "text/plain": [
              "<Figure size 640x480 with 2 Axes>"
            ]
          },
          "metadata": {},
          "output_type": "display_data"
        }
      ],
      "source": [
        "selected_ids = np.random.choice(\n",
        "    train_point_df['id'].unique(), \n",
        "    int(frac_of_ids*len(train_point_df['id'].unique())), \n",
        "    replace=False\n",
        ")\n",
        "# Select subsample for Random Forest point training\n",
        "df_anomaly_point = train_point_df.loc[train_point_df.id.isin(selected_ids)]\n",
        "#  Save dataframe for reproducibility\n",
        "df_anomaly_point.to_csv(\"./data/selected_train_points.csv\")\n",
        "\n",
        "# Train Random Forest point model\n",
        "features = df_anomaly_point.loc[:, ['x','y','z','dist']].values \n",
        "labels =  df_anomaly_point.loc[:, 'label'].values \n",
        "train_features, test_features, train_labels, test_labels = train_test_split(features, labels, test_size = 0.25, random_state = 42)\n",
        "rf_point = RandomForestClassifier(verbose=1, n_jobs=2) \n",
        "rf_point.fit(features, labels)\n",
        "\n",
        "# Plot results of model on test data sample\n",
        "test_features = test_point_df.loc[:, ['x','y','z','dist']].values \n",
        "test_labels =  test_point_df.loc[:, 'label'].values \n",
        "test_pred = rf_point.predict(test_features)\n",
        "\n",
        "# Plot Confusion Matrix\n",
        "cm = confusion_matrix(test_labels, test_pred)\n",
        "ConfusionMatrixDisplay(confusion_matrix=cm).plot()\n",
        "print(cm)"
      ]
    },
    {
      "attachments": {},
      "cell_type": "markdown",
      "metadata": {
        "id": "vyP6rru7Wqnc"
      },
      "source": [
        "### Model weights transfered to drive \n",
        "Transfer to own drive for it to be used for PointNet if RF point sampling is to be used for predictions"
      ]
    },
    {
      "cell_type": "code",
      "execution_count": 24,
      "metadata": {
        "id": "V7yqn6YO3Qhu"
      },
      "outputs": [
        {
          "data": {
            "text/plain": [
              "['./model_weights/rf_point.joblib']"
            ]
          },
          "execution_count": 24,
          "metadata": {},
          "output_type": "execute_result"
        }
      ],
      "source": [
        "# Save point model\n",
        "model_save_path = \"./model_weights\"\n",
        "os.makedirs(model_save_path, exist_ok=True)\n",
        "dump(rf_point, f'{model_save_path}/rf_point.joblib') "
      ]
    },
    {
      "attachments": {},
      "cell_type": "markdown",
      "metadata": {
        "id": "6bFXhfr0R29x"
      },
      "source": [
        "Test 90-10 evaluation"
      ]
    },
    {
      "cell_type": "code",
      "execution_count": 25,
      "metadata": {
        "colab": {
          "base_uri": "https://localhost:8080/",
          "height": 536
        },
        "id": "v_Ahkof6R16j",
        "outputId": "cd9d1891-c644-48bb-cf69-bc20145d48a0"
      },
      "outputs": [
        {
          "name": "stderr",
          "output_type": "stream",
          "text": [
            "[Parallel(n_jobs=2)]: Using backend ThreadingBackend with 2 concurrent workers.\n",
            "[Parallel(n_jobs=2)]: Done  46 tasks      | elapsed:    0.1s\n"
          ]
        },
        {
          "name": "stdout",
          "output_type": "stream",
          "text": [
            "locator: <matplotlib.ticker.AutoLocator object at 0x0000022D29097910>\n"
          ]
        },
        {
          "name": "stderr",
          "output_type": "stream",
          "text": [
            "[Parallel(n_jobs=2)]: Done 100 out of 100 | elapsed:    0.4s finished\n"
          ]
        },
        {
          "name": "stdout",
          "output_type": "stream",
          "text": [
            "[[160963      5]\n",
            " [     0      0]]\n"
          ]
        },
        {
          "data": {
            "image/png": "[encoded data removed]",
            "text/plain": [
              "<Figure size 640x480 with 2 Axes>"
            ]
          },
          "metadata": {},
          "output_type": "display_data"
        }
      ],
      "source": [
        "# Plot results of model on test data sample\n",
        "test_features_90_10 = test_point_df_90_10.loc[:, ['x','y','z','dist']].values \n",
        "test_labels_90_10 =  test_point_df_90_10.loc[:, 'label'].values \n",
        "test_pred_90_10 = rf_point.predict(test_features_90_10)\n",
        "\n",
        "# Plot Confusion Matrix\n",
        "cm_90_10 = confusion_matrix(test_labels_90_10, test_pred_90_10)\n",
        "ConfusionMatrixDisplay(confusion_matrix=cm_90_10).plot()\n",
        "print(cm_90_10)"
      ]
    },
    {
      "attachments": {},
      "cell_type": "markdown",
      "metadata": {
        "id": "AZBGVacb3zMF"
      },
      "source": [
        "# Point cloud model dataset preparation"
      ]
    },
    {
      "attachments": {},
      "cell_type": "markdown",
      "metadata": {
        "id": "QTb5zWSJy9A1"
      },
      "source": [
        "Once point model is trained we train mesh classification model on the mesh dataset"
      ]
    },
    {
      "attachments": {},
      "cell_type": "markdown",
      "metadata": {
        "id": "5bGN-hlAzPkg"
      },
      "source": [
        "### Point aggregation\n",
        "\n",
        "For the mesh we generate a separate dataset where we use the trained rf_point model to predict the porability of anomalies per point.\n",
        "\n",
        "We then use those predictions and the distance metrics to get percentiles for each mesh to get input features for our random forest classifier\n",
        "Each row represents a mesh with label_obj_is_anom as label for the mesh and the different percentiles we calculate"
      ]
    },
    {
      "cell_type": "code",
      "execution_count": 61,
      "metadata": {},
      "outputs": [],
      "source": [
        "# Here we create dataframe from second dataset\n",
        "path_mesh_point_cloud = \"C:/Users/Sani/Desktop/WorkTest/mesh data/point_cloud_mesh\"\n",
        "\n",
        "# Get matching reference to anomaly/normal mesh\n",
        "pairs_of_paths_mesh = get_reference_pairs(\n",
        "    {\"anomaly\": [], 'normal': []},\n",
        "    path_mesh_point_cloud\n",
        ")\n",
        "# Generate distance csvs to be used for propensity model training\n",
        "df = generate_distance_csvs(\n",
        "    pairs_of_paths_mesh,\n",
        "    os.path.join(path_mesh_point_cloud, \"generate_distance_csvs\")\n",
        ")"
      ]
    },
    {
      "cell_type": "code",
      "execution_count": 94,
      "metadata": {},
      "outputs": [
        {
          "data": {
            "text/plain": [
              "{'anomaly': [['C:/Users/Sani/Desktop/WorkTest/mesh data/point_cloud_mesh\\\\anomaly\\\\anomaly_lattice_test4_v0.csv',\n",
              "   'C:/Users/Sani/Desktop/WorkTest/mesh data/point_cloud_mesh\\\\reference\\\\reference_lattice_test4.csv'],\n",
              "  ['C:/Users/Sani/Desktop/WorkTest/mesh data/point_cloud_mesh\\\\anomaly\\\\anomaly_lattice_test4_v1.csv',\n",
              "   'C:/Users/Sani/Desktop/WorkTest/mesh data/point_cloud_mesh\\\\reference\\\\reference_lattice_test4.csv'],\n",
              "  ['C:/Users/Sani/Desktop/WorkTest/mesh data/point_cloud_mesh\\\\anomaly\\\\anomaly_lattice_test4_v2.csv',\n",
              "   'C:/Users/Sani/Desktop/WorkTest/mesh data/point_cloud_mesh\\\\reference\\\\reference_lattice_test4.csv'],\n",
              "  ['C:/Users/Sani/Desktop/WorkTest/mesh data/point_cloud_mesh\\\\anomaly\\\\anomaly_lattice_test4_v3.csv',\n",
              "   'C:/Users/Sani/Desktop/WorkTest/mesh data/point_cloud_mesh\\\\reference\\\\reference_lattice_test4.csv'],\n",
              "  ['C:/Users/Sani/Desktop/WorkTest/mesh data/point_cloud_mesh\\\\anomaly\\\\anomaly_lattice_test4_v4.csv',\n",
              "   'C:/Users/Sani/Desktop/WorkTest/mesh data/point_cloud_mesh\\\\reference\\\\reference_lattice_test4.csv'],\n",
              "  ['C:/Users/Sani/Desktop/WorkTest/mesh data/point_cloud_mesh\\\\anomaly\\\\anomaly_lattice_test4_v5.csv',\n",
              "   'C:/Users/Sani/Desktop/WorkTest/mesh data/point_cloud_mesh\\\\reference\\\\reference_lattice_test4.csv'],\n",
              "  ['C:/Users/Sani/Desktop/WorkTest/mesh data/point_cloud_mesh\\\\anomaly\\\\anomaly_lattice_test4_v6.csv',\n",
              "   'C:/Users/Sani/Desktop/WorkTest/mesh data/point_cloud_mesh\\\\reference\\\\reference_lattice_test4.csv'],\n",
              "  ['C:/Users/Sani/Desktop/WorkTest/mesh data/point_cloud_mesh\\\\anomaly\\\\anomaly_lattice_test4_v7.csv',\n",
              "   'C:/Users/Sani/Desktop/WorkTest/mesh data/point_cloud_mesh\\\\reference\\\\reference_lattice_test4.csv'],\n",
              "  ['C:/Users/Sani/Desktop/WorkTest/mesh data/point_cloud_mesh\\\\anomaly\\\\anomaly_lattice_test4_v8.csv',\n",
              "   'C:/Users/Sani/Desktop/WorkTest/mesh data/point_cloud_mesh\\\\reference\\\\reference_lattice_test4.csv'],\n",
              "  ['C:/Users/Sani/Desktop/WorkTest/mesh data/point_cloud_mesh\\\\anomaly\\\\anomaly_lattice_test4_v9.csv',\n",
              "   'C:/Users/Sani/Desktop/WorkTest/mesh data/point_cloud_mesh\\\\reference\\\\reference_lattice_test4.csv'],\n",
              "  ['C:/Users/Sani/Desktop/WorkTest/mesh data/point_cloud_mesh\\\\anomaly\\\\anomaly_lattice_test4_bisect_1_v0.csv',\n",
              "   'C:/Users/Sani/Desktop/WorkTest/mesh data/point_cloud_mesh\\\\reference\\\\reference_lattice_test4_bisect_1.csv'],\n",
              "  ['C:/Users/Sani/Desktop/WorkTest/mesh data/point_cloud_mesh\\\\anomaly\\\\anomaly_lattice_test4_bisect_1_v1.csv',\n",
              "   'C:/Users/Sani/Desktop/WorkTest/mesh data/point_cloud_mesh\\\\reference\\\\reference_lattice_test4_bisect_1.csv'],\n",
              "  ['C:/Users/Sani/Desktop/WorkTest/mesh data/point_cloud_mesh\\\\anomaly\\\\anomaly_lattice_test4_bisect_1_v2.csv',\n",
              "   'C:/Users/Sani/Desktop/WorkTest/mesh data/point_cloud_mesh\\\\reference\\\\reference_lattice_test4_bisect_1.csv'],\n",
              "  ['C:/Users/Sani/Desktop/WorkTest/mesh data/point_cloud_mesh\\\\anomaly\\\\anomaly_lattice_test4_bisect_1_v3.csv',\n",
              "   'C:/Users/Sani/Desktop/WorkTest/mesh data/point_cloud_mesh\\\\reference\\\\reference_lattice_test4_bisect_1.csv'],\n",
              "  ['C:/Users/Sani/Desktop/WorkTest/mesh data/point_cloud_mesh\\\\anomaly\\\\anomaly_lattice_test4_bisect_1_v4.csv',\n",
              "   'C:/Users/Sani/Desktop/WorkTest/mesh data/point_cloud_mesh\\\\reference\\\\reference_lattice_test4_bisect_1.csv'],\n",
              "  ['C:/Users/Sani/Desktop/WorkTest/mesh data/point_cloud_mesh\\\\anomaly\\\\anomaly_lattice_test4_bisect_1_v5.csv',\n",
              "   'C:/Users/Sani/Desktop/WorkTest/mesh data/point_cloud_mesh\\\\reference\\\\reference_lattice_test4_bisect_1.csv'],\n",
              "  ['C:/Users/Sani/Desktop/WorkTest/mesh data/point_cloud_mesh\\\\anomaly\\\\anomaly_lattice_test4_bisect_1_v6.csv',\n",
              "   'C:/Users/Sani/Desktop/WorkTest/mesh data/point_cloud_mesh\\\\reference\\\\reference_lattice_test4_bisect_1.csv'],\n",
              "  ['C:/Users/Sani/Desktop/WorkTest/mesh data/point_cloud_mesh\\\\anomaly\\\\anomaly_lattice_test4_bisect_1_v7.csv',\n",
              "   'C:/Users/Sani/Desktop/WorkTest/mesh data/point_cloud_mesh\\\\reference\\\\reference_lattice_test4_bisect_1.csv'],\n",
              "  ['C:/Users/Sani/Desktop/WorkTest/mesh data/point_cloud_mesh\\\\anomaly\\\\anomaly_lattice_test4_bisect_1_v8.csv',\n",
              "   'C:/Users/Sani/Desktop/WorkTest/mesh data/point_cloud_mesh\\\\reference\\\\reference_lattice_test4_bisect_1.csv'],\n",
              "  ['C:/Users/Sani/Desktop/WorkTest/mesh data/point_cloud_mesh\\\\anomaly\\\\anomaly_lattice_test4_bisect_1_v9.csv',\n",
              "   'C:/Users/Sani/Desktop/WorkTest/mesh data/point_cloud_mesh\\\\reference\\\\reference_lattice_test4_bisect_1.csv']],\n",
              " 'normal': [['C:/Users/Sani/Desktop/WorkTest/mesh data/point_cloud_mesh\\\\normal\\\\normal_lattice_test4_v0.csv',\n",
              "   'C:/Users/Sani/Desktop/WorkTest/mesh data/point_cloud_mesh\\\\reference\\\\reference_lattice_test4.csv'],\n",
              "  ['C:/Users/Sani/Desktop/WorkTest/mesh data/point_cloud_mesh\\\\normal\\\\normal_lattice_test4_v1.csv',\n",
              "   'C:/Users/Sani/Desktop/WorkTest/mesh data/point_cloud_mesh\\\\reference\\\\reference_lattice_test4.csv'],\n",
              "  ['C:/Users/Sani/Desktop/WorkTest/mesh data/point_cloud_mesh\\\\normal\\\\normal_lattice_test4_v2.csv',\n",
              "   'C:/Users/Sani/Desktop/WorkTest/mesh data/point_cloud_mesh\\\\reference\\\\reference_lattice_test4.csv'],\n",
              "  ['C:/Users/Sani/Desktop/WorkTest/mesh data/point_cloud_mesh\\\\normal\\\\normal_lattice_test4_v3.csv',\n",
              "   'C:/Users/Sani/Desktop/WorkTest/mesh data/point_cloud_mesh\\\\reference\\\\reference_lattice_test4.csv'],\n",
              "  ['C:/Users/Sani/Desktop/WorkTest/mesh data/point_cloud_mesh\\\\normal\\\\normal_lattice_test4_v4.csv',\n",
              "   'C:/Users/Sani/Desktop/WorkTest/mesh data/point_cloud_mesh\\\\reference\\\\reference_lattice_test4.csv'],\n",
              "  ['C:/Users/Sani/Desktop/WorkTest/mesh data/point_cloud_mesh\\\\normal\\\\normal_lattice_test4_v5.csv',\n",
              "   'C:/Users/Sani/Desktop/WorkTest/mesh data/point_cloud_mesh\\\\reference\\\\reference_lattice_test4.csv'],\n",
              "  ['C:/Users/Sani/Desktop/WorkTest/mesh data/point_cloud_mesh\\\\normal\\\\normal_lattice_test4_v6.csv',\n",
              "   'C:/Users/Sani/Desktop/WorkTest/mesh data/point_cloud_mesh\\\\reference\\\\reference_lattice_test4.csv'],\n",
              "  ['C:/Users/Sani/Desktop/WorkTest/mesh data/point_cloud_mesh\\\\normal\\\\normal_lattice_test4_v7.csv',\n",
              "   'C:/Users/Sani/Desktop/WorkTest/mesh data/point_cloud_mesh\\\\reference\\\\reference_lattice_test4.csv'],\n",
              "  ['C:/Users/Sani/Desktop/WorkTest/mesh data/point_cloud_mesh\\\\normal\\\\normal_lattice_test4_v8.csv',\n",
              "   'C:/Users/Sani/Desktop/WorkTest/mesh data/point_cloud_mesh\\\\reference\\\\reference_lattice_test4.csv'],\n",
              "  ['C:/Users/Sani/Desktop/WorkTest/mesh data/point_cloud_mesh\\\\normal\\\\normal_lattice_test4_v9.csv',\n",
              "   'C:/Users/Sani/Desktop/WorkTest/mesh data/point_cloud_mesh\\\\reference\\\\reference_lattice_test4.csv'],\n",
              "  ['C:/Users/Sani/Desktop/WorkTest/mesh data/point_cloud_mesh\\\\normal\\\\normal_lattice_test4_bisect_1_v0.csv',\n",
              "   'C:/Users/Sani/Desktop/WorkTest/mesh data/point_cloud_mesh\\\\reference\\\\reference_lattice_test4_bisect_1.csv'],\n",
              "  ['C:/Users/Sani/Desktop/WorkTest/mesh data/point_cloud_mesh\\\\normal\\\\normal_lattice_test4_bisect_1_v1.csv',\n",
              "   'C:/Users/Sani/Desktop/WorkTest/mesh data/point_cloud_mesh\\\\reference\\\\reference_lattice_test4_bisect_1.csv'],\n",
              "  ['C:/Users/Sani/Desktop/WorkTest/mesh data/point_cloud_mesh\\\\normal\\\\normal_lattice_test4_bisect_1_v2.csv',\n",
              "   'C:/Users/Sani/Desktop/WorkTest/mesh data/point_cloud_mesh\\\\reference\\\\reference_lattice_test4_bisect_1.csv'],\n",
              "  ['C:/Users/Sani/Desktop/WorkTest/mesh data/point_cloud_mesh\\\\normal\\\\normal_lattice_test4_bisect_1_v3.csv',\n",
              "   'C:/Users/Sani/Desktop/WorkTest/mesh data/point_cloud_mesh\\\\reference\\\\reference_lattice_test4_bisect_1.csv'],\n",
              "  ['C:/Users/Sani/Desktop/WorkTest/mesh data/point_cloud_mesh\\\\normal\\\\normal_lattice_test4_bisect_1_v4.csv',\n",
              "   'C:/Users/Sani/Desktop/WorkTest/mesh data/point_cloud_mesh\\\\reference\\\\reference_lattice_test4_bisect_1.csv'],\n",
              "  ['C:/Users/Sani/Desktop/WorkTest/mesh data/point_cloud_mesh\\\\normal\\\\normal_lattice_test4_bisect_1_v5.csv',\n",
              "   'C:/Users/Sani/Desktop/WorkTest/mesh data/point_cloud_mesh\\\\reference\\\\reference_lattice_test4_bisect_1.csv'],\n",
              "  ['C:/Users/Sani/Desktop/WorkTest/mesh data/point_cloud_mesh\\\\normal\\\\normal_lattice_test4_bisect_1_v6.csv',\n",
              "   'C:/Users/Sani/Desktop/WorkTest/mesh data/point_cloud_mesh\\\\reference\\\\reference_lattice_test4_bisect_1.csv'],\n",
              "  ['C:/Users/Sani/Desktop/WorkTest/mesh data/point_cloud_mesh\\\\normal\\\\normal_lattice_test4_bisect_1_v7.csv',\n",
              "   'C:/Users/Sani/Desktop/WorkTest/mesh data/point_cloud_mesh\\\\reference\\\\reference_lattice_test4_bisect_1.csv'],\n",
              "  ['C:/Users/Sani/Desktop/WorkTest/mesh data/point_cloud_mesh\\\\normal\\\\normal_lattice_test4_bisect_1_v8.csv',\n",
              "   'C:/Users/Sani/Desktop/WorkTest/mesh data/point_cloud_mesh\\\\reference\\\\reference_lattice_test4_bisect_1.csv'],\n",
              "  ['C:/Users/Sani/Desktop/WorkTest/mesh data/point_cloud_mesh\\\\normal\\\\normal_lattice_test4_bisect_1_v9.csv',\n",
              "   'C:/Users/Sani/Desktop/WorkTest/mesh data/point_cloud_mesh\\\\reference\\\\reference_lattice_test4_bisect_1.csv']]}"
            ]
          },
          "execution_count": 94,
          "metadata": {},
          "output_type": "execute_result"
        }
      ],
      "source": [
        "pairs_of_paths_mesh"
      ]
    },
    {
      "cell_type": "code",
      "execution_count": 110,
      "metadata": {},
      "outputs": [],
      "source": [
        "def create_mesh_dataframe(pairs_of_paths_mesh, df):\n",
        "    data_dict = {\"object_path\": [], \"reference_path\": [], \"label\": []}\n",
        "    for key in [\"anomaly\", \"normal\"]:\n",
        "        for i in range(len(df[key])):\n",
        "            data_dict[\"object_path\"].append(pairs_of_paths_mesh[key][i][0].replace(\"csv\", \"pcd\"))\n",
        "            data_dict[\"reference_path\"].append(df[key][i])\n",
        "            data_dict[\"label\"].append(key)\n",
        "    return pd.DataFrame(data_dict)\n",
        "\n",
        "def create_mesh_split(pairs_of_paths_mesh, df, test_split):\n",
        "    df = create_mesh_dataframe(pairs_of_paths_mesh, df)\n",
        "\n",
        "    df_anom = df[df[\"label\"] == \"anomaly\"]\n",
        "    df_norm = df[df[\"label\"] == \"normal\"]\n",
        "\n",
        "    split_idx = int(df_anom.shape[0] * test_split)\n",
        "\n",
        "    train_df = pd.concat([\n",
        "        df_anom.iloc[split_idx:],\n",
        "        df_norm.iloc[split_idx:]\n",
        "\n",
        "    ], ignore_index=False)\n",
        "\n",
        "    test_df = pd.concat([\n",
        "        df_anom.iloc[:split_idx],\n",
        "        df_norm.iloc[:split_idx]\n",
        "    ], ignore_index=False)\n",
        "\n",
        "    test_df_90_10 = pd.concat([\n",
        "        df_anom.iloc[:int(split_idx/9)],\n",
        "        df_norm.iloc[:split_idx]\n",
        "    ], ignore_index=False)\n",
        "    train_df.to_csv(\"./data/train_df.csv\", index=False)\n",
        "    test_df.to_csv(\"./data/test_df.csv\", index=False)\n",
        "    test_df_90_10.to_csv(\"./data/test_df_90_10.csv\", index=False)\n",
        "\n",
        "    return train_df, test_df, test_df_90_10\n"
      ]
    },
    {
      "cell_type": "code",
      "execution_count": 111,
      "metadata": {},
      "outputs": [],
      "source": [
        "mesh_test_split = 0.2"
      ]
    },
    {
      "cell_type": "code",
      "execution_count": 112,
      "metadata": {},
      "outputs": [
        {
          "name": "stdout",
          "output_type": "stream",
          "text": [
            "C:/Users/Sani/Desktop/WorkTest/mesh data/point_cloud_mesh\\anomaly\\anomaly_lattice_test4_v0.csv\n",
            "C:/Users/Sani/Desktop/WorkTest/mesh data/point_cloud_mesh\\anomaly\\anomaly_lattice_test4_v1.csv\n",
            "C:/Users/Sani/Desktop/WorkTest/mesh data/point_cloud_mesh\\anomaly\\anomaly_lattice_test4_v2.csv\n",
            "C:/Users/Sani/Desktop/WorkTest/mesh data/point_cloud_mesh\\anomaly\\anomaly_lattice_test4_v3.csv\n",
            "C:/Users/Sani/Desktop/WorkTest/mesh data/point_cloud_mesh\\anomaly\\anomaly_lattice_test4_v4.csv\n",
            "C:/Users/Sani/Desktop/WorkTest/mesh data/point_cloud_mesh\\anomaly\\anomaly_lattice_test4_v5.csv\n",
            "C:/Users/Sani/Desktop/WorkTest/mesh data/point_cloud_mesh\\anomaly\\anomaly_lattice_test4_v6.csv\n",
            "C:/Users/Sani/Desktop/WorkTest/mesh data/point_cloud_mesh\\anomaly\\anomaly_lattice_test4_v7.csv\n",
            "C:/Users/Sani/Desktop/WorkTest/mesh data/point_cloud_mesh\\anomaly\\anomaly_lattice_test4_v8.csv\n",
            "C:/Users/Sani/Desktop/WorkTest/mesh data/point_cloud_mesh\\anomaly\\anomaly_lattice_test4_v9.csv\n",
            "C:/Users/Sani/Desktop/WorkTest/mesh data/point_cloud_mesh\\anomaly\\anomaly_lattice_test4_bisect_1_v0.csv\n",
            "C:/Users/Sani/Desktop/WorkTest/mesh data/point_cloud_mesh\\anomaly\\anomaly_lattice_test4_bisect_1_v1.csv\n",
            "C:/Users/Sani/Desktop/WorkTest/mesh data/point_cloud_mesh\\anomaly\\anomaly_lattice_test4_bisect_1_v2.csv\n",
            "C:/Users/Sani/Desktop/WorkTest/mesh data/point_cloud_mesh\\anomaly\\anomaly_lattice_test4_bisect_1_v3.csv\n",
            "C:/Users/Sani/Desktop/WorkTest/mesh data/point_cloud_mesh\\anomaly\\anomaly_lattice_test4_bisect_1_v4.csv\n",
            "C:/Users/Sani/Desktop/WorkTest/mesh data/point_cloud_mesh\\anomaly\\anomaly_lattice_test4_bisect_1_v5.csv\n",
            "C:/Users/Sani/Desktop/WorkTest/mesh data/point_cloud_mesh\\anomaly\\anomaly_lattice_test4_bisect_1_v6.csv\n",
            "C:/Users/Sani/Desktop/WorkTest/mesh data/point_cloud_mesh\\anomaly\\anomaly_lattice_test4_bisect_1_v7.csv\n",
            "C:/Users/Sani/Desktop/WorkTest/mesh data/point_cloud_mesh\\anomaly\\anomaly_lattice_test4_bisect_1_v8.csv\n",
            "C:/Users/Sani/Desktop/WorkTest/mesh data/point_cloud_mesh\\anomaly\\anomaly_lattice_test4_bisect_1_v9.csv\n",
            "C:/Users/Sani/Desktop/WorkTest/mesh data/point_cloud_mesh\\normal\\normal_lattice_test4_v0.csv\n",
            "C:/Users/Sani/Desktop/WorkTest/mesh data/point_cloud_mesh\\normal\\normal_lattice_test4_v1.csv\n",
            "C:/Users/Sani/Desktop/WorkTest/mesh data/point_cloud_mesh\\normal\\normal_lattice_test4_v2.csv\n",
            "C:/Users/Sani/Desktop/WorkTest/mesh data/point_cloud_mesh\\normal\\normal_lattice_test4_v3.csv\n",
            "C:/Users/Sani/Desktop/WorkTest/mesh data/point_cloud_mesh\\normal\\normal_lattice_test4_v4.csv\n",
            "C:/Users/Sani/Desktop/WorkTest/mesh data/point_cloud_mesh\\normal\\normal_lattice_test4_v5.csv\n",
            "C:/Users/Sani/Desktop/WorkTest/mesh data/point_cloud_mesh\\normal\\normal_lattice_test4_v6.csv\n",
            "C:/Users/Sani/Desktop/WorkTest/mesh data/point_cloud_mesh\\normal\\normal_lattice_test4_v7.csv\n",
            "C:/Users/Sani/Desktop/WorkTest/mesh data/point_cloud_mesh\\normal\\normal_lattice_test4_v8.csv\n",
            "C:/Users/Sani/Desktop/WorkTest/mesh data/point_cloud_mesh\\normal\\normal_lattice_test4_v9.csv\n",
            "C:/Users/Sani/Desktop/WorkTest/mesh data/point_cloud_mesh\\normal\\normal_lattice_test4_bisect_1_v0.csv\n",
            "C:/Users/Sani/Desktop/WorkTest/mesh data/point_cloud_mesh\\normal\\normal_lattice_test4_bisect_1_v1.csv\n",
            "C:/Users/Sani/Desktop/WorkTest/mesh data/point_cloud_mesh\\normal\\normal_lattice_test4_bisect_1_v2.csv\n",
            "C:/Users/Sani/Desktop/WorkTest/mesh data/point_cloud_mesh\\normal\\normal_lattice_test4_bisect_1_v3.csv\n",
            "C:/Users/Sani/Desktop/WorkTest/mesh data/point_cloud_mesh\\normal\\normal_lattice_test4_bisect_1_v4.csv\n",
            "C:/Users/Sani/Desktop/WorkTest/mesh data/point_cloud_mesh\\normal\\normal_lattice_test4_bisect_1_v5.csv\n",
            "C:/Users/Sani/Desktop/WorkTest/mesh data/point_cloud_mesh\\normal\\normal_lattice_test4_bisect_1_v6.csv\n",
            "C:/Users/Sani/Desktop/WorkTest/mesh data/point_cloud_mesh\\normal\\normal_lattice_test4_bisect_1_v7.csv\n",
            "C:/Users/Sani/Desktop/WorkTest/mesh data/point_cloud_mesh\\normal\\normal_lattice_test4_bisect_1_v8.csv\n",
            "C:/Users/Sani/Desktop/WorkTest/mesh data/point_cloud_mesh\\normal\\normal_lattice_test4_bisect_1_v9.csv\n"
          ]
        }
      ],
      "source": [
        "train_df, test_df, test_point_df_90_10 = create_mesh_split(pairs_of_paths_mesh, df, mesh_test_split)"
      ]
    },
    {
      "cell_type": "code",
      "execution_count": 103,
      "metadata": {
        "id": "kqs1bpEo3_Vz"
      },
      "outputs": [],
      "source": [
        "%%capture\n",
        "#Aggregate data for training the model to detect anomaly mesh\n",
        "\n",
        "# Calculating percentile of items per dataset\n",
        "def percentile(n):\n",
        "  \"\"\"\n",
        "  Calculates percentile values per mesh in dataframe\n",
        "  \"\"\"\n",
        "  def percentile_(x):\n",
        "      return np.percentile(x, n)\n",
        "  percentile_.__name__ = 'percentile_%s' % n\n",
        "  return percentile_\n",
        "\n",
        "\n",
        "def is_anom(series):\n",
        "  \"\"\"\n",
        "  Function used for labelling entire dataset maximum value\n",
        "  of label_obj column\n",
        "  \"\"\"\n",
        "  # If maximum value is set to anomaly\n",
        "  return series.max()\n",
        "\n",
        "def aggregate_data(df):\n",
        "  \"\"\"\n",
        "  Function used to aggregate points per mesh into\n",
        "  1 row with percentile information for dist and prob_anom\n",
        "  columns columns and preserves label_obj as label for classification\n",
        "  \"\"\"\n",
        "  aggr_df = df.groupby(['id']).agg(\n",
        "      {'label_obj': is_anom,\n",
        "      'dist':[\n",
        "          'mean',\n",
        "          'max',\n",
        "          percentile(60),\n",
        "          percentile(70),\n",
        "          percentile(80),\n",
        "          percentile(90),\n",
        "          percentile(95),\n",
        "          percentile(96),\n",
        "          percentile(97),\n",
        "          percentile(98),\n",
        "          percentile(99),\n",
        "      ],\n",
        "      'prob_anom':[\n",
        "          'mean',  \n",
        "          'max', \n",
        "          percentile(60),\n",
        "          percentile(70),\n",
        "          percentile(80),\n",
        "          percentile(90),\n",
        "          percentile(95),\n",
        "          percentile(96),\n",
        "          percentile(97),\n",
        "          percentile(98),\n",
        "          percentile(99),\n",
        "      ],\n",
        "      }\n",
        "  )\n",
        "  aggr_df.columns = ['_'.join(col) for col in aggr_df.columns.values]\n",
        "  return aggr_df\n",
        "\n",
        "def create_aggregated_dataset(df, rf_point):\n",
        "  # Load test data\n",
        "  dataset = None\n",
        "  for idx, (name, label) in enumerate(zip(df[\"reference_path\"], df[\"label\"])):\n",
        "      if name.endswith(\".csv\"):\n",
        "        # Loading dataframe of file\n",
        "          df_tmp = pd.read_csv(name)\n",
        "          df_tmp['id'] = idx\n",
        "          df_tmp['label_obj'] = 1 if label == \"anomaly\" else 0\n",
        "\n",
        "          df_tmp[\"prob_anom\"] = rf_point.predict_proba(df_tmp.loc[:, ['x', 'y', 'z', 'dist']].values)[:,1]\n",
        "          # Selecting uniformly distributed indices\n",
        "          if isinstance(dataset, type(None)):\n",
        "              dataset = aggregate_data(df_tmp)\n",
        "          else:\n",
        "              dataset = pd.concat([dataset,\n",
        "                                aggregate_data(df_tmp)],\n",
        "                                ignore_index=True)\n",
        "  return dataset\n",
        "\n",
        "\n",
        "train_anomaly_mesh = create_aggregated_dataset(train_df, rf_point)\n",
        "print(\"Train done\")\n",
        "test_anomaly_mesh = create_aggregated_dataset(test_df, rf_point)\n",
        "print(\"Test done\")\n",
        "print(train_anomaly_mesh[\"label_obj_is_anom\"].value_counts())\n",
        "print(test_anomaly_mesh[\"label_obj_is_anom\"].value_counts())\n",
        "\n",
        "# Save aggregated dataset for further use of RandomForest+PointNet\n",
        "\n",
        "train_anomaly_mesh.to_csv(\"./data/aggregated_train.csv\", index=False) \n",
        "test_anomaly_mesh.to_csv(\"./data/aggregated_test.csv\", index=False) "
      ]
    },
    {
      "attachments": {},
      "cell_type": "markdown",
      "metadata": {
        "id": "KMOUsvgOKJhs"
      },
      "source": [
        "Transfering aggregated metrics to drive for further use by PointNet+RandomForest model \n",
        "\n",
        "Do not run if only training Stacked Random Forest model"
      ]
    },
    {
      "cell_type": "code",
      "execution_count": 104,
      "metadata": {
        "colab": {
          "base_uri": "https://localhost:8080/"
        },
        "id": "cyDa1kHtzo55",
        "outputId": "b4fda9c9-ec90-44d0-9315-3b7f32e0a752"
      },
      "outputs": [],
      "source": [
        "# # Create data split 90/10 for test set to be used for this and other model testing\n",
        "\n",
        "# # Select indices of test set dataframe 50/50 split and select anomaly indices for reduction\n",
        "# anom_split_90_10 = int(test_df[test_df[\"label\"] == \"anomaly\"].shape[0]/9)\n",
        "# print(f\"Number of anomaly samples: {anom_split_90_10}\")\n",
        "\n",
        "# normal_inds = []\n",
        "# anomaly_inds = []\n",
        "# for idx, label in enumerate(test_df[\"label\"]):\n",
        "#   if label == \"anomaly\":\n",
        "#     anomaly_inds.append(idx)\n",
        "#   else:\n",
        "#     normal_inds.append(idx)\n",
        "\n",
        "# # Select indices to be used for 90/10 split\n",
        "# anomaly_inds = np.random.choice(anomaly_inds, size=anom_split_90_10, replace=False)\n",
        "\n",
        "# # Concatenate files\n",
        "# test_df_90_10 = pd.concat([test_df.iloc[normal_inds],\n",
        "#                           test_df.iloc[anomaly_inds]])\n",
        "\n",
        "# # Save dataframe and transfer to drive for further use\n",
        "# test_df_90_10.to_csv(\"test_df_90_10.csv\", index=False)\n",
        "# # !cp \"test_df_90_10.csv\" \"/content/drive/MyDrive/MA-VQC Data/Quartered Anomaly Size/RandomForestData\" \n",
        "\n"
      ]
    },
    {
      "attachments": {},
      "cell_type": "markdown",
      "metadata": {
        "id": "R5wprB8wKvRw"
      },
      "source": [
        "Random Forest training and Evaluation"
      ]
    },
    {
      "cell_type": "code",
      "execution_count": 105,
      "metadata": {
        "colab": {
          "base_uri": "https://localhost:8080/",
          "height": 484
        },
        "id": "eYzVsbdm4VTf",
        "outputId": "fb38d754-1af1-48b3-e8f1-ddd36da3dab2"
      },
      "outputs": [
        {
          "name": "stdout",
          "output_type": "stream",
          "text": [
            "locator: <matplotlib.ticker.AutoLocator object at 0x0000022D27244370>\n",
            "[[4 0]\n",
            " [1 3]]\n"
          ]
        },
        {
          "data": {
            "image/png": "[encoded data removed]",
            "text/plain": [
              "<Figure size 640x480 with 2 Axes>"
            ]
          },
          "metadata": {},
          "output_type": "display_data"
        }
      ],
      "source": [
        "# Train model for random forest classifier for detecting anomalous meshes\n",
        "\n",
        "train_features_mesh = train_anomaly_mesh.loc[:, train_anomaly_mesh.columns[1:]].values\n",
        "train_labels_mesh = train_anomaly_mesh.loc[:, 'label_obj_is_anom'].values.astype(int)\n",
        "\n",
        "test_features_mesh = test_anomaly_mesh.loc[:, train_anomaly_mesh.columns[1:]].values\n",
        "test_labels_mesh = test_anomaly_mesh.loc[:, 'label_obj_is_anom'].values.astype(int)\n",
        "\n",
        "# Fit model\n",
        "rf_mesh = RandomForestClassifier()\n",
        "rf_mesh.fit(train_features_mesh, train_labels_mesh)\n",
        "\n",
        "test_pred_mesh = rf_mesh.predict(test_features_mesh)\n",
        "# Create the confusion matrix to plot results\n",
        "cm = confusion_matrix(test_labels_mesh, test_pred_mesh)\n",
        "\n",
        "ConfusionMatrixDisplay(confusion_matrix=cm).plot()\n",
        "print(cm)"
      ]
    },
    {
      "cell_type": "code",
      "execution_count": 106,
      "metadata": {
        "id": "l4CDlEec6J6A"
      },
      "outputs": [
        {
          "data": {
            "text/plain": [
              "['./model_weights/rf_mesh.joblib']"
            ]
          },
          "execution_count": 106,
          "metadata": {},
          "output_type": "execute_result"
        }
      ],
      "source": [
        "# Transfer model for use in PointNet with RF downsampling selection\n",
        "dump(rf_mesh, f'{model_save_path}/rf_mesh.joblib') \n",
        "# !cp \"/content/model_weights/rf_mesh_50-50.joblib\" \"/content/drive/MyDrive/MA-VQC Data/Quartered Anomaly Size/RandomForestModels\" #/90-10\""
      ]
    },
    {
      "attachments": {},
      "cell_type": "markdown",
      "metadata": {
        "id": "KfH8Y1pILjUM"
      },
      "source": [
        "90-10 anomaly split"
      ]
    },
    {
      "cell_type": "code",
      "execution_count": 107,
      "metadata": {
        "colab": {
          "base_uri": "https://localhost:8080/",
          "height": 484
        },
        "id": "Ix5ufT9THVce",
        "outputId": "d20d4ec3-2753-44bc-ad9a-309d7876476e"
      },
      "outputs": [
        {
          "name": "stdout",
          "output_type": "stream",
          "text": [
            "colorbar update normal <matplotlib.colors.Normalize object at 0x0000022D27769E40> <matplotlib.colors.Normalize object at 0x0000022D27769E40>\n",
            "locator: <matplotlib.ticker.AutoLocator object at 0x0000022D271BB280>\n",
            "colorbar update normal <matplotlib.colors.Normalize object at 0x0000022D27769E40> <matplotlib.colors.Normalize object at 0x0000022D27769E40>\n",
            "locator: <matplotlib.ticker.AutoLocator object at 0x0000022D271BB280>\n",
            "locator: <matplotlib.ticker.AutoLocator object at 0x0000022D271BA8C0>\n",
            "[[4]]\n"
          ]
        },
        {
          "data": {
            "image/png": "[encoded data removed]",
            "text/plain": [
              "<Figure size 640x480 with 2 Axes>"
            ]
          },
          "metadata": {},
          "output_type": "display_data"
        }
      ],
      "source": [
        "# Results for 90/10 split of dataset\n",
        "\n",
        "# Create the confusion matrix to plot results\n",
        "# !cp \"/content/drive/MyDrive/MA-VQC Data/Quartered Anomaly Size/RandomForestData/test_df_90_10.csv\" \"/content/\"\n",
        "test_point_df_90_10 = pd.read_csv(\"./data/test_df_90_10.csv\")\n",
        "\n",
        "# Match indices of selected 90/10 dataframe\n",
        "inds = [idx for idx, name in enumerate(test_df[\"reference_path\"]) if name in test_point_df_90_10[\"reference_path\"].tolist()]\n",
        "test_anomaly_mesh_90_10 = test_anomaly_mesh.iloc[inds]\n",
        "\n",
        "\n",
        "test_features_mesh_90_10 = test_anomaly_mesh_90_10.loc[:, test_anomaly_mesh_90_10.columns[1:]].values\n",
        "test_labels_mesh_90_10 = test_anomaly_mesh_90_10.loc[:, 'label_obj_is_anom'].values.astype(int)\n",
        "test_pred_mesh_90_10 = rf_mesh.predict(test_features_mesh_90_10)\n",
        "\n",
        "cm = confusion_matrix(test_labels_mesh_90_10, test_pred_mesh_90_10)\n",
        "\n",
        "ConfusionMatrixDisplay(confusion_matrix=cm).plot()\n",
        "print(cm)"
      ]
    },
    {
      "cell_type": "code",
      "execution_count": null,
      "metadata": {},
      "outputs": [],
      "source": []
    },
    {
      "cell_type": "code",
      "execution_count": null,
      "metadata": {},
      "outputs": [],
      "source": []
    }
  ],
  "metadata": {
    "colab": {
      "provenance": []
    },
    "kernelspec": {
      "display_name": "Python 3",
      "name": "python3"
    },
    "language_info": {
      "codemirror_mode": {
        "name": "ipython",
        "version": 3
      },
      "file_extension": ".py",
      "mimetype": "text/x-python",
      "name": "python",
      "nbconvert_exporter": "python",
      "pygments_lexer": "ipython3",
      "version": "3.10.9"
    }
  },
  "nbformat": 4,
  "nbformat_minor": 0
}
